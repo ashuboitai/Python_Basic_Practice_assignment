{
 "cells": [
  {
   "cell_type": "code",
   "execution_count": 28,
   "id": "4910c6a5-8e3d-4fb6-b9b4-671ebb5cf438",
   "metadata": {},
   "outputs": [
    {
     "name": "stdout",
     "output_type": "stream",
     "text": [
      "[1, 2, 3, 4, 5, 6, 7, 8, 9, 10]\n"
     ]
    }
   ],
   "source": [
    "#1. Create a list with integers from 1 to 10.\n",
    "my_list = list(range(1, 11))\n",
    "print(my_list)"
   ]
  },
  {
   "cell_type": "code",
   "execution_count": 29,
   "id": "02a90fcb-caf1-4870-9dcd-d48e73651cdc",
   "metadata": {},
   "outputs": [
    {
     "name": "stdout",
     "output_type": "stream",
     "text": [
      "5\n"
     ]
    }
   ],
   "source": [
    "#2. Find the length of a list without using the `len()` function.\n",
    "def get_list_length(lst):\n",
    "    count = 0\n",
    "    for _ in lst:\n",
    "        count += 1\n",
    "    return count\n",
    "\n",
    "my_list = [1, 2, 3, 4, 5]\n",
    "length = get_list_length(my_list)\n",
    "print(length)"
   ]
  },
  {
   "cell_type": "code",
   "execution_count": 30,
   "id": "fdc41938-62d2-4d1b-9dcc-f9d8f24cd568",
   "metadata": {},
   "outputs": [
    {
     "name": "stdout",
     "output_type": "stream",
     "text": [
      "[1, 2, 3, 4]\n"
     ]
    }
   ],
   "source": [
    "#3. Append an element to the end of a list.\n",
    "my_list = [1, 2, 3]\n",
    "my_list.append(4)\n",
    "print(my_list)"
   ]
  },
  {
   "cell_type": "code",
   "execution_count": 31,
   "id": "cb011125-0365-41b6-a11b-85e48241177c",
   "metadata": {},
   "outputs": [
    {
     "name": "stdout",
     "output_type": "stream",
     "text": [
      "[1, 2, 3, 4, 5]\n"
     ]
    }
   ],
   "source": [
    "#4. Insert an element at a specific index in a list.\n",
    "my_list = [1, 2, 4, 5]\n",
    "my_list.insert(2, 3)\n",
    "print(my_list)"
   ]
  },
  {
   "cell_type": "code",
   "execution_count": 32,
   "id": "3c0a8450-1b35-4a26-9238-d40dc51d3cf2",
   "metadata": {},
   "outputs": [
    {
     "name": "stdout",
     "output_type": "stream",
     "text": [
      "[1, 2, 4, 5]\n"
     ]
    }
   ],
   "source": [
    "#5. Remove an element from a list by its value.\n",
    "my_list = [1, 2, 3, 4, 5]\n",
    "my_list.remove(3)\n",
    "print(my_list)"
   ]
  },
  {
   "cell_type": "code",
   "execution_count": 33,
   "id": "12f6bbb4-9513-4fc7-8fd6-7e0a7b88defd",
   "metadata": {},
   "outputs": [
    {
     "name": "stdout",
     "output_type": "stream",
     "text": [
      "[1, 2, 4, 5]\n"
     ]
    }
   ],
   "source": [
    "#6. Remove an element from a list by its index.\n",
    "my_list = [1, 2, 3, 4, 5]\n",
    "del my_list[2]\n",
    "print(my_list)"
   ]
  },
  {
   "cell_type": "code",
   "execution_count": 34,
   "id": "b29769a6-6e3c-4b63-9093-ef2bcbcc7158",
   "metadata": {},
   "outputs": [
    {
     "name": "stdout",
     "output_type": "stream",
     "text": [
      "Element exists in the list\n"
     ]
    }
   ],
   "source": [
    "#7. Check if an element exists in a list.\n",
    "my_list = [1, 2, 3, 4, 5]\n",
    "if 3 in my_list:\n",
    "    print(\"Element exists in the list\")\n",
    "else:\n",
    "    print(\"Element does not exist in the list\")\n"
   ]
  },
  {
   "cell_type": "code",
   "execution_count": 35,
   "id": "53a27bf5-0407-4a25-96c7-2a657ad0fd23",
   "metadata": {},
   "outputs": [
    {
     "name": "stdout",
     "output_type": "stream",
     "text": [
      "2\n"
     ]
    }
   ],
   "source": [
    "#8. Find the index of the first occurrence of an element in a list.\n",
    "\n",
    "my_list = [1, 2, 3, 4, 5]\n",
    "index = my_list.index(3)\n",
    "print(index)"
   ]
  },
  {
   "cell_type": "code",
   "execution_count": 36,
   "id": "d4c38240-d156-4a01-8327-8cb721875840",
   "metadata": {},
   "outputs": [
    {
     "name": "stdout",
     "output_type": "stream",
     "text": [
      "3\n"
     ]
    }
   ],
   "source": [
    "#9. Count the occurrences of an element in a list.\n",
    "\n",
    "my_list = [1, 2, 3, 3, 4, 5, 3]\n",
    "count = my_list.count(3)\n",
    "print(count)"
   ]
  },
  {
   "cell_type": "code",
   "execution_count": 37,
   "id": "0513eb5b-7127-4108-9ac9-3c6b2bf2105c",
   "metadata": {},
   "outputs": [
    {
     "name": "stdout",
     "output_type": "stream",
     "text": [
      "[5, 4, 3, 2, 1]\n"
     ]
    }
   ],
   "source": [
    "#10. Reverse the order of elements in a list.\n",
    "my_list = [1, 2, 3, 4, 5]\n",
    "my_list.reverse()\n",
    "print(my_list)"
   ]
  },
  {
   "cell_type": "code",
   "execution_count": 38,
   "id": "afbfe8fd-f7f2-4ee4-a452-63df46faf483",
   "metadata": {},
   "outputs": [
    {
     "name": "stdout",
     "output_type": "stream",
     "text": [
      "[1, 2, 3, 4, 5]\n"
     ]
    }
   ],
   "source": [
    "#11. Sort a list in ascending order.\n",
    "my_list = [4, 2, 1, 3, 5]\n",
    "my_list.sort()\n",
    "print(my_list)"
   ]
  },
  {
   "cell_type": "code",
   "execution_count": 39,
   "id": "70a5e2ca-4bff-4f8d-ae93-55b975b86a31",
   "metadata": {},
   "outputs": [
    {
     "name": "stdout",
     "output_type": "stream",
     "text": [
      "[5, 4, 3, 2, 1]\n"
     ]
    }
   ],
   "source": [
    "#12. Sort a list in descending order.\n",
    "my_list = [4, 2, 1, 3, 5]\n",
    "my_list.sort(reverse=True)\n",
    "print(my_list)"
   ]
  },
  {
   "cell_type": "code",
   "execution_count": 40,
   "id": "a1020370-747f-480a-a221-a0b205c2037a",
   "metadata": {},
   "outputs": [
    {
     "name": "stdout",
     "output_type": "stream",
     "text": [
      "[2, 4, 6, 8, 10, 12, 14, 16, 18, 20]\n"
     ]
    }
   ],
   "source": [
    "#13. Create a list of even numbers from 1 to 20.\n",
    "\n",
    "even_numbers = list(range(2, 21, 2))\n",
    "print(even_numbers)"
   ]
  },
  {
   "cell_type": "code",
   "execution_count": 42,
   "id": "9bc6df2d-4946-4bcb-82e7-4d1f77a0ca9a",
   "metadata": {},
   "outputs": [
    {
     "name": "stdout",
     "output_type": "stream",
     "text": [
      "[1, 3, 5, 7, 9, 11, 13, 15, 17, 19]\n"
     ]
    }
   ],
   "source": [
    "#14. Create a list of odd numbers from 1 to 20.\n",
    "\n",
    "odd_numbers = list(range(1, 21, 2))\n",
    "print(odd_numbers)"
   ]
  },
  {
   "cell_type": "code",
   "execution_count": 43,
   "id": "1676da19-144c-41a4-9f45-bee52bb57f11",
   "metadata": {},
   "outputs": [
    {
     "name": "stdout",
     "output_type": "stream",
     "text": [
      "15\n"
     ]
    }
   ],
   "source": [
    "#15. Find the sum of all elements in a list.\n",
    "\n",
    "my_list = [1, 2, 3, 4, 5]\n",
    "total_sum = sum(my_list)\n",
    "print(total_sum)"
   ]
  },
  {
   "cell_type": "code",
   "execution_count": 44,
   "id": "dbb8321f-ab21-47f7-ba43-20d2b0d953e5",
   "metadata": {},
   "outputs": [
    {
     "name": "stdout",
     "output_type": "stream",
     "text": [
      "5\n"
     ]
    }
   ],
   "source": [
    "#16. Find the maximum value in a list.\n",
    "my_list = [4, 2, 1, 3, 5]\n",
    "max_value = max(my_list)\n",
    "print(max_value)\n"
   ]
  },
  {
   "cell_type": "code",
   "execution_count": 45,
   "id": "7a0b74ef-d79a-4578-b544-475d36e9f71a",
   "metadata": {},
   "outputs": [
    {
     "name": "stdout",
     "output_type": "stream",
     "text": [
      "1\n"
     ]
    }
   ],
   "source": [
    "#17. Find the minimum value in a list.\n",
    "\n",
    "my_list = [4, 2, 1, 3, 5]\n",
    "min_value = min(my_list)\n",
    "print(min_value)"
   ]
  },
  {
   "cell_type": "code",
   "execution_count": 46,
   "id": "54029dcf-581d-40d9-aedd-412e6e74f006",
   "metadata": {},
   "outputs": [
    {
     "name": "stdout",
     "output_type": "stream",
     "text": [
      "[1, 4, 9, 16, 25, 36, 49, 64, 81, 100]\n"
     ]
    }
   ],
   "source": [
    "#18. Create a list of squares of numbers from 1 to 10.\n",
    "squares = [x**2 for x in range(1, 11)]\n",
    "print(squares)"
   ]
  },
  {
   "cell_type": "code",
   "execution_count": 47,
   "id": "f0bf40c1-3f66-41c4-a707-60e313510e3b",
   "metadata": {},
   "outputs": [
    {
     "name": "stdout",
     "output_type": "stream",
     "text": [
      "[2, 7, 36, 28, 16, 82, 31, 50, 33, 49]\n"
     ]
    }
   ],
   "source": [
    "#19. Create a list of random numbers.\n",
    "\n",
    "import random\n",
    "\n",
    "random_numbers = [random.randint(1, 100) for _ in range(10)]\n",
    "print(random_numbers)"
   ]
  },
  {
   "cell_type": "code",
   "execution_count": 48,
   "id": "39be5cd9-3403-40bd-873d-4ada349acaac",
   "metadata": {},
   "outputs": [
    {
     "name": "stdout",
     "output_type": "stream",
     "text": [
      "[1, 2, 3, 4, 5]\n"
     ]
    }
   ],
   "source": [
    "#20. Remove duplicates from a list.\n",
    "my_list = [1, 2, 2, 3, 4, 4, 5]\n",
    "unique_list = list(set(my_list))\n",
    "print(unique_list)"
   ]
  },
  {
   "cell_type": "code",
   "execution_count": 49,
   "id": "195ac4cf-de5d-4b26-8e5a-cedd00f6ed0b",
   "metadata": {},
   "outputs": [
    {
     "name": "stdout",
     "output_type": "stream",
     "text": [
      "[4, 5]\n"
     ]
    }
   ],
   "source": [
    "#21. Find the common elements between two lists.\n",
    "list1 = [1, 2, 3, 4, 5]\n",
    "list2 = [4, 5, 6, 7, 8]\n",
    "common_elements = list(set(list1) & set(list2))\n",
    "print(common_elements)\n"
   ]
  },
  {
   "cell_type": "code",
   "execution_count": 50,
   "id": "ee95d5bd-5838-4e8f-bc8a-312d98e01eb8",
   "metadata": {},
   "outputs": [
    {
     "name": "stdout",
     "output_type": "stream",
     "text": [
      "[1, 2, 3]\n"
     ]
    }
   ],
   "source": [
    "#22. Find the difference between two lists.\n",
    "list1 = [1, 2, 3, 4, 5]\n",
    "list2 = [4, 5, 6, 7, 8]\n",
    "difference = list(set(list1) - set(list2))\n",
    "print(difference)\n"
   ]
  },
  {
   "cell_type": "code",
   "execution_count": 51,
   "id": "9fb98d29-2d4e-4e31-8d3e-5eac432c2cbe",
   "metadata": {},
   "outputs": [
    {
     "name": "stdout",
     "output_type": "stream",
     "text": [
      "[1, 2, 3, 4, 5, 6]\n"
     ]
    }
   ],
   "source": [
    "#23. Merge two lists.\n",
    "list1 = [1, 2, 3]\n",
    "list2 = [4, 5, 6]\n",
    "merged_list = list1 + list2\n",
    "print(merged_list)"
   ]
  },
  {
   "cell_type": "code",
   "execution_count": 52,
   "id": "b11a6451-4c59-4540-ba35-4c301499cec0",
   "metadata": {},
   "outputs": [
    {
     "name": "stdout",
     "output_type": "stream",
     "text": [
      "[2, 4, 6, 8, 10]\n"
     ]
    }
   ],
   "source": [
    "#24. Multiply all elements in a list by 2.\n",
    "my_list = [1, 2, 3, 4, 5]\n",
    "multiplied_list = [x * 2 for x in my_list]\n",
    "print(multiplied_list)"
   ]
  },
  {
   "cell_type": "code",
   "execution_count": 53,
   "id": "e8833c5b-0fed-4c7d-9930-64e2095ca2d5",
   "metadata": {},
   "outputs": [
    {
     "name": "stdout",
     "output_type": "stream",
     "text": [
      "[1, 3, 5]\n"
     ]
    }
   ],
   "source": [
    "#25. Filter out all even numbers from a list.\n",
    "my_list = [1, 2, 3, 4, 5]\n",
    "filtered_list = [x for x in my_list if x % 2 != 0]\n",
    "print(filtered_list)"
   ]
  },
  {
   "cell_type": "code",
   "execution_count": 26,
   "id": "5fc3458a-d8e5-44b9-833d-beef4fa8449b",
   "metadata": {},
   "outputs": [
    {
     "name": "stdout",
     "output_type": "stream",
     "text": [
      "[1, 2, 3, 4, 5]\n"
     ]
    }
   ],
   "source": [
    "#26. Convert a list of strings to a list of integers.\n",
    "string_list = ['1', '2', '3', '4', '5']\n",
    "integer_list = list(map(int, string_list))\n",
    "print(integer_list)"
   ]
  },
  {
   "cell_type": "code",
   "execution_count": 27,
   "id": "d2fa039d-4a4b-412e-b247-e5b14b6c7963",
   "metadata": {},
   "outputs": [
    {
     "name": "stdout",
     "output_type": "stream",
     "text": [
      "['1', '2', '3', '4', '5']\n"
     ]
    }
   ],
   "source": [
    "#27. Convert a list of integers to a list of strings.\n",
    "integer_list = [1, 2, 3, 4, 5]\n",
    "string_list = list(map(str, integer_list))\n",
    "print(string_list)"
   ]
  },
  {
   "cell_type": "code",
   "execution_count": 28,
   "id": "b29227e6-8270-4b0a-8af4-41e35308e0ff",
   "metadata": {},
   "outputs": [
    {
     "name": "stdout",
     "output_type": "stream",
     "text": [
      "[1, 2, 3, 4, 5, 6]\n"
     ]
    }
   ],
   "source": [
    "#28. Flatten a nested list.\n",
    "\n",
    "nested_list = [[1, 2], [3, 4], [5, 6]]\n",
    "flatten_list = [item for sublist in nested_list for item in sublist]\n",
    "print(flatten_list)"
   ]
  },
  {
   "cell_type": "code",
   "execution_count": 29,
   "id": "822bd3a9-9dbd-4d0c-8e00-05a8f8da1d60",
   "metadata": {},
   "outputs": [
    {
     "name": "stdout",
     "output_type": "stream",
     "text": [
      "[0, 1, 1, 2, 3, 5, 8, 13, 21, 34]\n"
     ]
    }
   ],
   "source": [
    "#29. Create a list of the first 10 Fibonacci numbers.\n",
    "def fibonacci(n):\n",
    "    fib_list = [0, 1]\n",
    "    for i in range(2, n):\n",
    "        fib_list.append(fib_list[i-1] + fib_list[i-2])\n",
    "    return fib_list\n",
    "\n",
    "fibonacci_list = fibonacci(10)\n",
    "print(fibonacci_list)\n"
   ]
  },
  {
   "cell_type": "code",
   "execution_count": 30,
   "id": "563baa7e-5c25-4dbc-8f57-9bb78702297a",
   "metadata": {},
   "outputs": [
    {
     "name": "stdout",
     "output_type": "stream",
     "text": [
      "List is sorted\n"
     ]
    }
   ],
   "source": [
    "#30. Check if a list is sorted.\n",
    "def is_sorted(lst):\n",
    "    return all(lst[i] <= lst[i+1] for i in range(len(lst)-1))\n",
    "\n",
    "my_list = [1, 2, 3, 4, 5]\n",
    "if is_sorted(my_list):\n",
    "    print(\"List is sorted\")\n",
    "else:\n",
    "    print(\"List is not sorted\")\n"
   ]
  },
  {
   "cell_type": "code",
   "execution_count": 31,
   "id": "e9db030c-9ee0-4011-9132-2600d62a6dd2",
   "metadata": {},
   "outputs": [
    {
     "name": "stdout",
     "output_type": "stream",
     "text": [
      "[3, 4, 5, 1, 2]\n"
     ]
    }
   ],
   "source": [
    "#31. Rotate a list to the left by `n` positions.\n",
    "def rotate_left(lst, n):\n",
    "    n = n % len(lst)\n",
    "    rotated_list = lst[n:] + lst[:n]\n",
    "    return rotated_list\n",
    "\n",
    "my_list = [1, 2, 3, 4, 5]\n",
    "rotated_list = rotate_left(my_list, 2)\n",
    "print(rotated_list)"
   ]
  },
  {
   "cell_type": "code",
   "execution_count": 32,
   "id": "9eaec7d5-72ff-40eb-842e-65616c290898",
   "metadata": {},
   "outputs": [
    {
     "name": "stdout",
     "output_type": "stream",
     "text": [
      "[4, 5, 1, 2, 3]\n"
     ]
    }
   ],
   "source": [
    "#32. Rotate a list to the right by `n` positions.\n",
    "def rotate_right(lst, n):\n",
    "    n = n % len(lst)\n",
    "    rotated_list = lst[-n:] + lst[:-n]\n",
    "    return rotated_list\n",
    "\n",
    "my_list = [1, 2, 3, 4, 5]\n",
    "rotated_list = rotate_right(my_list, 2)\n",
    "print(rotated_list)"
   ]
  },
  {
   "cell_type": "code",
   "execution_count": 33,
   "id": "b22997b6-82f0-44db-bbc0-1c0980e9f38d",
   "metadata": {},
   "outputs": [
    {
     "name": "stdout",
     "output_type": "stream",
     "text": [
      "[2, 3, 5, 7, 11, 13, 17, 19, 23, 29, 31, 37, 41, 43, 47]\n"
     ]
    }
   ],
   "source": [
    "#33. Create a list of prime numbers up to 50.\n",
    "def is_prime(n):\n",
    "    if n < 2:\n",
    "        return False\n",
    "    for i in range(2, int(n**0.5) + 1):\n",
    "        if n % i == 0:\n",
    "            return False\n",
    "    return True\n",
    "\n",
    "prime_list = [num for num in range(2, 51) if is_prime(num)]\n",
    "print(prime_list)"
   ]
  },
  {
   "cell_type": "code",
   "execution_count": 34,
   "id": "018b3477-032d-461f-866b-3c920fac2e77",
   "metadata": {},
   "outputs": [
    {
     "name": "stdout",
     "output_type": "stream",
     "text": [
      "[[1, 2, 3], [4, 5, 6], [7, 8, 9], [10]]\n"
     ]
    }
   ],
   "source": [
    "#34. Split a list into chunks of size `n`.\n",
    "def chunk_list(lst, n):\n",
    "    return [lst[i:i+n] for i in range(0, len(lst), n)]\n",
    "\n",
    "my_list = [1, 2, 3, 4, 5, 6, 7, 8, 9, 10]\n",
    "chunked_list = chunk_list(my_list, 3)\n",
    "print(chunked_list)"
   ]
  },
  {
   "cell_type": "code",
   "execution_count": 35,
   "id": "8e37cbeb-1d8d-4ffc-bef2-bf9f1efaf4f6",
   "metadata": {},
   "outputs": [
    {
     "name": "stdout",
     "output_type": "stream",
     "text": [
      "4\n"
     ]
    }
   ],
   "source": [
    "#35. Find the second largest number in a list.\n",
    "def find_second_largest(lst):\n",
    "    unique_elements = list(set(lst))\n",
    "    if len(unique_elements) < 2:\n",
    "        return None\n",
    "    unique_elements.sort()\n",
    "    return unique_elements[-2]\n",
    "\n",
    "my_list = [1, 2, 3, 4, 5]\n",
    "second_largest = find_second_largest(my_list)\n",
    "print(second_largest)"
   ]
  },
  {
   "cell_type": "code",
   "execution_count": 36,
   "id": "fbda4b3e-7628-4e90-bbfd-a747ba34a717",
   "metadata": {},
   "outputs": [
    {
     "name": "stdout",
     "output_type": "stream",
     "text": [
      "[1, 4, 9, 16, 25]\n"
     ]
    }
   ],
   "source": [
    "#36. Replace every element in a list with its square.\n",
    "my_list = [1, 2, 3, 4, 5]\n",
    "squared_list = [x**2 for x in my_list]\n",
    "print(squared_list)"
   ]
  },
  {
   "cell_type": "code",
   "execution_count": 37,
   "id": "1e04b95e-00cb-4129-91d5-f189c20e2601",
   "metadata": {},
   "outputs": [
    {
     "name": "stdout",
     "output_type": "stream",
     "text": [
      "{'apple': 0, 'banana': 1, 'orange': 2}\n"
     ]
    }
   ],
   "source": [
    "#37. Convert a list to a dictionary where list elements become keys and their indices become values.\n",
    "my_list = ['apple', 'banana', 'orange']\n",
    "my_dict = {value: index for index, value in enumerate(my_list)}\n",
    "print(my_dict)\n"
   ]
  },
  {
   "cell_type": "code",
   "execution_count": 38,
   "id": "082de830-f330-4f39-880c-685e82654a35",
   "metadata": {},
   "outputs": [
    {
     "name": "stdout",
     "output_type": "stream",
     "text": [
      "[3, 2, 1, 5, 4]\n"
     ]
    }
   ],
   "source": [
    "#38. Shuffle the elements of a list randomly.\n",
    "import random\n",
    "\n",
    "my_list = [1, 2, 3, 4, 5]\n",
    "random.shuffle(my_list)\n",
    "print(my_list)"
   ]
  },
  {
   "cell_type": "code",
   "execution_count": 39,
   "id": "0a2f1259-087d-4a90-ba13-d8da0c54c6f1",
   "metadata": {},
   "outputs": [
    {
     "name": "stdout",
     "output_type": "stream",
     "text": [
      "[1, 2, 6, 24, 120, 720, 5040, 40320, 362880, 3628800]\n"
     ]
    }
   ],
   "source": [
    "#39. Create a list of the first 10 factorial numbers.\n",
    "def factorial(n):\n",
    "    if n == 0:\n",
    "        return 1\n",
    "    else:\n",
    "        return n * factorial(n-1)\n",
    "\n",
    "factorial_list = [factorial(n) for n in range(1, 11)]\n",
    "print(factorial_list)"
   ]
  },
  {
   "cell_type": "code",
   "execution_count": 40,
   "id": "54e083fa-1d2a-4da2-bfc5-37d58cd399e8",
   "metadata": {},
   "outputs": [
    {
     "name": "stdout",
     "output_type": "stream",
     "text": [
      "The lists have at least one common element\n"
     ]
    }
   ],
   "source": [
    "#40. Check if two lists have at least one element in common.\n",
    "\n",
    "def has_common_element(list1, list2):\n",
    "    return any(element in list2 for element in list1)\n",
    "\n",
    "list1 = [1, 2, 3]\n",
    "list2 = [3, 4, 5]\n",
    "if has_common_element(list1, list2):\n",
    "    print(\"The lists have at least one common element\")\n",
    "else:\n",
    "    print(\"The lists do not have any common elements\")"
   ]
  },
  {
   "cell_type": "code",
   "execution_count": 41,
   "id": "e0275e0c-18d2-4c95-af21-e79f451576c9",
   "metadata": {},
   "outputs": [
    {
     "name": "stdout",
     "output_type": "stream",
     "text": [
      "[]\n"
     ]
    }
   ],
   "source": [
    "#41. Remove all elements from a list.\n",
    "my_list = [1, 2, 3, 4, 5]\n",
    "my_list.clear()\n",
    "print(my_list)\n"
   ]
  },
  {
   "cell_type": "code",
   "execution_count": 42,
   "id": "77388380-d408-4afa-9adf-7dc5adf16752",
   "metadata": {},
   "outputs": [
    {
     "name": "stdout",
     "output_type": "stream",
     "text": [
      "[1, 0, 3, 0, 5]\n"
     ]
    }
   ],
   "source": [
    "#42. Replace negative numbers in a list with 0.\n",
    "my_list = [1, -2, 3, -4, 5]\n",
    "modified_list = [x if x >= 0 else 0 for x in my_list]\n",
    "print(modified_list)"
   ]
  },
  {
   "cell_type": "code",
   "execution_count": 43,
   "id": "20e01c02-c9b5-4bc2-ac6a-8beb03195778",
   "metadata": {},
   "outputs": [
    {
     "name": "stdout",
     "output_type": "stream",
     "text": [
      "['Hello,', 'how', 'are', 'you?']\n"
     ]
    }
   ],
   "source": [
    "#43. Convert a string into a list of words.\n",
    "string = \"Hello, how are you?\"\n",
    "word_list = string.split()\n",
    "print(word_list)"
   ]
  },
  {
   "cell_type": "code",
   "execution_count": 44,
   "id": "74282919-846e-403a-b2b3-29d666b73d2a",
   "metadata": {},
   "outputs": [
    {
     "name": "stdout",
     "output_type": "stream",
     "text": [
      "Hello how are you?\n"
     ]
    }
   ],
   "source": [
    "#44. Convert a list of words into a string.\n",
    "word_list = [\"Hello\", \"how\", \"are\", \"you?\"]\n",
    "string = \" \".join(word_list)\n",
    "print(string)"
   ]
  },
  {
   "cell_type": "code",
   "execution_count": 45,
   "id": "5d1e285f-3e37-4ff6-b1f5-ca2f0a8ae0ab",
   "metadata": {},
   "outputs": [
    {
     "name": "stdout",
     "output_type": "stream",
     "text": [
      "[1, 2, 4, 8, 16]\n"
     ]
    }
   ],
   "source": [
    "#45. Create a list of the first `n` powers of 2.\n",
    "n = 5\n",
    "power_of_2_list = [2**i for i in range(n)]\n",
    "print(power_of_2_list)"
   ]
  },
  {
   "cell_type": "code",
   "execution_count": 46,
   "id": "ecc71882-4081-4017-a97b-3e58dc9d269b",
   "metadata": {},
   "outputs": [
    {
     "name": "stdout",
     "output_type": "stream",
     "text": [
      "banana\n"
     ]
    }
   ],
   "source": [
    "#46. Find the longest string in a list of strings.\n",
    "string_list = [\"apple\", \"banana\", \"orange\"]\n",
    "longest_string = max(string_list, key=len)\n",
    "print(longest_string)"
   ]
  },
  {
   "cell_type": "code",
   "execution_count": 47,
   "id": "c3af83b2-7f19-4540-97ea-369754162044",
   "metadata": {},
   "outputs": [
    {
     "name": "stdout",
     "output_type": "stream",
     "text": [
      "apple\n"
     ]
    }
   ],
   "source": [
    "#47. Find the shortest string in a list of strings.\n",
    "string_list = [\"apple\", \"banana\", \"orange\"]\n",
    "shortest_string = min(string_list, key=len)\n",
    "print(shortest_string)"
   ]
  },
  {
   "cell_type": "code",
   "execution_count": 48,
   "id": "995fc3ba-4d45-489c-ba2b-eb4d2060c8dd",
   "metadata": {},
   "outputs": [
    {
     "name": "stdout",
     "output_type": "stream",
     "text": [
      "[1, 3, 6, 10, 15]\n"
     ]
    }
   ],
   "source": [
    "#48. Create a list of the first `n` triangular numbers.\n",
    "def triangular_number(n):\n",
    "    return (n * (n + 1)) // 2\n",
    "\n",
    "n = 5\n",
    "triangular_numbers = [triangular_number(i) for i in range(1, n+1)]\n",
    "print(triangular_numbers)"
   ]
  },
  {
   "cell_type": "code",
   "execution_count": 50,
   "id": "06844241-8ea7-42a8-987e-e8418e7a4b79",
   "metadata": {},
   "outputs": [
    {
     "name": "stdout",
     "output_type": "stream",
     "text": [
      "The sublist is a subsequence of the main list\n"
     ]
    }
   ],
   "source": [
    "#49. Check if a list contains another list as a subsequence.\n",
    "def is_subsequence(sublist, mainlist):\n",
    "    sub_len = len(sublist)\n",
    "    main_len = len(mainlist)\n",
    "    if sub_len > main_len:\n",
    "        return False\n",
    "    sub_index = 0\n",
    "    for i in range(main_len):\n",
    "        if sublist[sub_index] == mainlist[i]:\n",
    "            sub_index += 1\n",
    "            if sub_index == sub_len:\n",
    "                return True\n",
    "    return False\n",
    "\n",
    "main_list = [1, 2, 3, 4, 5]\n",
    "sub_list = [2, 3]\n",
    "if is_subsequence(sub_list, main_list):\n",
    "    print(\"The sublist is a subsequence of the main list\")\n",
    "else:\n",
    "    print(\"The sublist is not a subsequence of the main list\")"
   ]
  },
  {
   "cell_type": "code",
   "execution_count": 51,
   "id": "5f28846d-05fb-421d-ad69-fd3cce810bb0",
   "metadata": {},
   "outputs": [
    {
     "name": "stdout",
     "output_type": "stream",
     "text": [
      "[1, 4, 3, 2, 5]\n"
     ]
    }
   ],
   "source": [
    "#50. Swap two elements in a list by their indices.\n",
    "def swap_elements(lst, index1, index2):\n",
    "    lst[index1], lst[index2] = lst[index2], lst[index1]\n",
    "\n",
    "my_list = [1, 2, 3, 4, 5]\n",
    "swap_elements(my_list, 1, 3)\n",
    "print(my_list)"
   ]
  },
  {
   "cell_type": "code",
   "execution_count": null,
   "id": "94aed7c1-9d9b-4d76-8712-92607c8dc1f5",
   "metadata": {},
   "outputs": [],
   "source": []
  }
 ],
 "metadata": {
  "kernelspec": {
   "display_name": "Python 3 (ipykernel)",
   "language": "python",
   "name": "python3"
  },
  "language_info": {
   "codemirror_mode": {
    "name": "ipython",
    "version": 3
   },
   "file_extension": ".py",
   "mimetype": "text/x-python",
   "name": "python",
   "nbconvert_exporter": "python",
   "pygments_lexer": "ipython3",
   "version": "3.10.8"
  }
 },
 "nbformat": 4,
 "nbformat_minor": 5
}
