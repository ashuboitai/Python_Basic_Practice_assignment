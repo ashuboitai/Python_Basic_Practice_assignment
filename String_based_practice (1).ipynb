{
 "cells": [
  {
   "cell_type": "code",
   "execution_count": 1,
   "id": "864a4134-acb2-4f6c-911c-a696d88f8bcf",
   "metadata": {},
   "outputs": [
    {
     "name": "stdout",
     "output_type": "stream",
     "text": [
      "The reverse of string is: ecneics atad gninrael si hsotuhsa\n"
     ]
    }
   ],
   "source": [
    "#reverse a strng\n",
    "s=\"ashutosh is learning data science\"\n",
    "print(\"The reverse of string is:\",s[::-1])"
   ]
  },
  {
   "cell_type": "code",
   "execution_count": 3,
   "id": "0c751c40-ecd8-4350-95f4-2b9c57652538",
   "metadata": {},
   "outputs": [
    {
     "name": "stdout",
     "output_type": "stream",
     "text": [
      "palindrome\n"
     ]
    }
   ],
   "source": [
    "#2 palindrome\n",
    "s1=\"mum\"\n",
    "s2=s1[::-1]\n",
    "if s1==s2:\n",
    "    print(\"palindrome\")\n",
    "else:\n",
    "    print(\"not palindrome\")"
   ]
  },
  {
   "cell_type": "code",
   "execution_count": 5,
   "id": "8e7b3b68-2e47-4193-bdb6-d0ada599dcd8",
   "metadata": {},
   "outputs": [
    {
     "name": "stdout",
     "output_type": "stream",
     "text": [
      "String in upper case: ALWAYS BE HAPPY\n",
      "String in lower case: always be happy\n"
     ]
    }
   ],
   "source": [
    "#3 convert to upper and lower\n",
    "s=\"Always be happy\"\n",
    "print(\"String in upper case:\", s.upper())\n",
    "print(\"String in lower case:\", s.lower())"
   ]
  },
  {
   "cell_type": "code",
   "execution_count": 10,
   "id": "2945af4f-1650-46c3-bb0e-d49b739308d8",
   "metadata": {},
   "outputs": [
    {
     "name": "stdin",
     "output_type": "stream",
     "text": [
      "Enter the string lkoweuuqqujhj\n"
     ]
    },
    {
     "name": "stdout",
     "output_type": "stream",
     "text": [
      "The number of vowels in the sentence is 5\n",
      "Total number of consonant are: 8\n"
     ]
    }
   ],
   "source": [
    "#5 count number of vowels in a string\n",
    "s3=input(\"Enter the string\")\n",
    "s3=s3.lower() #Coverting to lower case\n",
    "vowel_count={} #Dictionary to store vowel count\n",
    "\n",
    "vowel_count[\"a\"]=s3.count(\"a\") #using count method to count all vowels\n",
    "vowel_count[\"e\"]=s3.count(\"e\") \n",
    "vowel_count[\"i\"]=s3.count(\"i\") \n",
    "vowel_count[\"o\"]=s3.count(\"o\") \n",
    "vowel_count[\"u\"]=s3.count(\"u\") \n",
    "\n",
    "vowel_counts=sum(vowel_count.values()) #adding the values in dictionary to get the total sum\n",
    "print(\"The number of vowels in the sentence is\", vowel_counts)\n",
    "\n",
    "#number of consonant\n",
    "c=len(s3)-vowel_counts\n",
    "print(\"Total number of consonant are:\",c)"
   ]
  },
  {
   "cell_type": "code",
   "execution_count": 11,
   "id": "5df90d89-1528-4adc-b06a-a705650c1323",
   "metadata": {},
   "outputs": [
    {
     "name": "stdin",
     "output_type": "stream",
     "text": [
      "Enter the string ashutosh  is learning     \n"
     ]
    },
    {
     "name": "stdout",
     "output_type": "stream",
     "text": [
      "The string after removing space ashutoshislearning\n"
     ]
    }
   ],
   "source": [
    "#7 remove white space from string\n",
    "s4=input(\"Enter the string\")\n",
    "print(\"The string after removing space\",s4.replace(\" \",\"\"))"
   ]
  },
  {
   "cell_type": "code",
   "execution_count": 4,
   "id": "44f83839-47e9-4ca6-a2c1-235c2005c390",
   "metadata": {},
   "outputs": [
    {
     "name": "stdout",
     "output_type": "stream",
     "text": [
      "The changed string is: ashutosh is learning datascience master\n"
     ]
    }
   ],
   "source": [
    "#10 replace a word with another word\n",
    "s5=\"Ashutosh is learning datascience\"\n",
    "s6=s5.lower();\n",
    "print(\"The changed string is:\",s6.replace(\"datascience\",\"datascience master\"))"
   ]
  },
  {
   "cell_type": "code",
   "execution_count": 8,
   "id": "0a276527-4c07-4752-87c7-135b0d8e99bc",
   "metadata": {},
   "outputs": [
    {
     "name": "stdout",
     "output_type": "stream",
     "text": [
      "Occurence of word: are = 2\n"
     ]
    }
   ],
   "source": [
    "#11 count occurence of words\n",
    "s7=\"How are you? hope you are well\"\n",
    "word=\"are\"\n",
    "count=s7.lower().count(word.lower())\n",
    "print(\"Occurence of word:\",word,\"=\",count)"
   ]
  },
  {
   "cell_type": "code",
   "execution_count": 11,
   "id": "25cf435d-e5db-4e5e-92be-757a93a8e4be",
   "metadata": {},
   "outputs": [
    {
     "name": "stdout",
     "output_type": "stream",
     "text": [
      "The first occurence of word found at: 4\n"
     ]
    }
   ],
   "source": [
    "#12first occurence of the string\n",
    "string=\"How are you? hope you are well\"\n",
    "word=\"are\"\n",
    "index=string.lower().find(word.lower())\n",
    "print(\"The first occurence of word found at:\",index)"
   ]
  },
  {
   "cell_type": "code",
   "execution_count": 14,
   "id": "faad8f4a-48d2-4f64-9048-b1fb23b86fb6",
   "metadata": {},
   "outputs": [
    {
     "name": "stdout",
     "output_type": "stream",
     "text": [
      "The last occurence of word found at: 22\n"
     ]
    }
   ],
   "source": [
    "#14last occurence of the string\n",
    "string2=\"How are you? hope you are well\"\n",
    "word=\"are\"\n",
    "index=string2.lower().rfind(word.lower())\n",
    "print(\"The last occurence of word found at:\",index)"
   ]
  },
  {
   "cell_type": "code",
   "execution_count": 17,
   "id": "8a01d47c-32e2-4469-a5ab-754a9a857326",
   "metadata": {},
   "outputs": [
    {
     "name": "stdout",
     "output_type": "stream",
     "text": [
      "The list of words are: ['How', 'are', 'you?', 'hope', 'you', 'are', 'well']\n"
     ]
    }
   ],
   "source": [
    "#14 split string into list of words\n",
    "string3=\"How are you? hope you are well\"\n",
    "list_words=string3.split(\" \")\n",
    "print(\"The list of words are:\",list_words)"
   ]
  },
  {
   "cell_type": "code",
   "execution_count": 20,
   "id": "b906c81d-08a8-4303-882b-51a3280509ba",
   "metadata": {},
   "outputs": [
    {
     "name": "stdout",
     "output_type": "stream",
     "text": [
      "Joined string: how are you doing\n"
     ]
    }
   ],
   "source": [
    "#15-join a list of words into string\n",
    "list_words=['how','are','you','doing']\n",
    "s8=' '.join(list_words)\n",
    "print(\"Joined string:\",s8)"
   ]
  },
  {
   "cell_type": "code",
   "execution_count": 18,
   "id": "d60b7bc2-48ea-474b-adbb-d643bb47b0fb",
   "metadata": {},
   "outputs": [
    {
     "data": {
      "text/plain": [
       "'How_are_you?_hope_you_are_well'"
      ]
     },
     "execution_count": 18,
     "metadata": {},
     "output_type": "execute_result"
    }
   ],
   "source": [
    "#16. Convert a string where words are separated by spaces to one where words are separated by underscores.\n",
    "string3.replace(\" \",\"_\")"
   ]
  },
  {
   "cell_type": "code",
   "execution_count": 23,
   "id": "ed956e72-5c7e-433f-880e-fffd50fd5df3",
   "metadata": {},
   "outputs": [
    {
     "data": {
      "text/plain": [
       "False"
      ]
     },
     "execution_count": 23,
     "metadata": {},
     "output_type": "execute_result"
    }
   ],
   "source": [
    "#17. Check if a string starts with a specific word or phrase.\n",
    "'''def check_starts_with(string, word):\n",
    "    return string.startswith(word)'''\n",
    "s=lambda string, word:string.startswith(word)\n",
    "s(\"i am learning data science\",'data')"
   ]
  },
  {
   "cell_type": "code",
   "execution_count": 24,
   "id": "a080b763-3823-4316-b6ee-27efc1cf158d",
   "metadata": {},
   "outputs": [
    {
     "data": {
      "text/plain": [
       "True"
      ]
     },
     "execution_count": 24,
     "metadata": {},
     "output_type": "execute_result"
    }
   ],
   "source": [
    "#18. Check if a string ends with a specific word or phrase.\n",
    "s=lambda string, word:string.endswith(word)\n",
    "s(\"i am learning data science\",'science')"
   ]
  },
  {
   "cell_type": "code",
   "execution_count": 27,
   "id": "30bab23d-7483-4d23-91f4-9a4d7409b101",
   "metadata": {},
   "outputs": [
    {
     "data": {
      "text/plain": [
       "'I Am Learning Data Science'"
      ]
     },
     "execution_count": 27,
     "metadata": {},
     "output_type": "execute_result"
    }
   ],
   "source": [
    "#19. Convert a string to title case (e.g., \"hello world\" to \"Hello World\").\n",
    "s1=lambda string:string.title()\n",
    "s1(\"i am learning data science\")"
   ]
  },
  {
   "cell_type": "code",
   "execution_count": 31,
   "id": "f6c45400-a408-409a-bbc4-175a8281a935",
   "metadata": {},
   "outputs": [
    {
     "data": {
      "text/plain": [
       "'longest'"
      ]
     },
     "execution_count": 31,
     "metadata": {},
     "output_type": "execute_result"
    }
   ],
   "source": [
    "#20. Find the longest word in a string.\n",
    "def find_longest_word(string):\n",
    "    words = string.split()\n",
    "    longest_word = max(words, key=len)\n",
    "    return longest_word\n",
    "find_longest_word(\"which word is longest\")"
   ]
  },
  {
   "cell_type": "code",
   "execution_count": 32,
   "id": "2e011069-0218-46ce-8bd0-aa4d2ab7babf",
   "metadata": {},
   "outputs": [
    {
     "data": {
      "text/plain": [
       "'i'"
      ]
     },
     "execution_count": 32,
     "metadata": {},
     "output_type": "execute_result"
    }
   ],
   "source": [
    "#21. Find the shortest word in a string.\n",
    "def find_shortest_word(string):\n",
    "    words = string.split()\n",
    "    shortest_word = min(words, key=len)\n",
    "    return shortest_word\n",
    "find_shortest_word(\"i am practicing data type\")"
   ]
  },
  {
   "cell_type": "code",
   "execution_count": 2,
   "id": "411102d7-0c54-4d0e-ada4-f2aa321531bc",
   "metadata": {},
   "outputs": [
    {
     "data": {
      "text/plain": [
       "['goal', 'a', 'its']"
      ]
     },
     "execution_count": 2,
     "metadata": {},
     "output_type": "execute_result"
    }
   ],
   "source": [
    "#22. Reverse the order of words in a string.\n",
    "\n",
    "def reverse_words(string):\n",
    "    words = string.split()\n",
    "    #reversed_string = \" \".join(reversed(words))\n",
    "    reversed_string=words[::-1]\n",
    "    return reversed_string\n",
    "reverse_words(\"its a goal\")"
   ]
  },
  {
   "cell_type": "code",
   "execution_count": 6,
   "id": "8d479a10-8232-4bc2-b14f-2a33acd379e5",
   "metadata": {},
   "outputs": [
    {
     "name": "stdout",
     "output_type": "stream",
     "text": [
      "The string is alphanumeric.\n"
     ]
    }
   ],
   "source": [
    "#23. Check if a string is alphanumeric.\n",
    "'''def is_alphanumeric(text):\n",
    "    # Step 1: Use the isalnum() method to check if the string is alphanumeric.\n",
    "    return text.isalnum()'''\n",
    "\n",
    "text = \"Hello123\"\n",
    "\n",
    "a=map(lambda text:text.isalnum(),text)\n",
    "#result = a(text)\n",
    "if a:\n",
    "    print(\"The string is alphanumeric.\")\n",
    "else:\n",
    "    print(\"The string is not alphanumeric.\")"
   ]
  },
  {
   "cell_type": "code",
   "execution_count": 11,
   "id": "13f580ae-0e40-4f6c-bb07-2705ffd8ddd7",
   "metadata": {},
   "outputs": [
    {
     "name": "stdout",
     "output_type": "stream",
     "text": [
      "Extracted digits: 123456\n"
     ]
    }
   ],
   "source": [
    "#24. Extract all digits from a string.\n",
    "def extract_digits(string):\n",
    "    digits = [char for char in string if char.isdigit()]\n",
    "    return \"\".join(digits)\n",
    "\n",
    "def extract_digits(text):\n",
    "   \n",
    "    digits = \"\"\n",
    "    for char in text:\n",
    "        if char.isdigit():\n",
    "            # Append the digit to the digits string.\n",
    "            digits += char\n",
    "\n",
    "    return digits\n",
    "\n",
    "# Example usage\n",
    "text = \"Hello123World456\"\n",
    "extracted_digits = extract_digits(text)\n",
    "print(\"Extracted digits:\", extracted_digits)\n",
    "\n",
    "extract_digits = lambda string: ''.join(filter(lambda char: char.isdigit(), string))\n",
    "string = \"A7B3C9\"\n",
    "digits = extract_digits(string)\n",
    "print(digits)"
   ]
  },
  {
   "cell_type": "code",
   "execution_count": 13,
   "id": "43f7a856-1004-494b-a2cc-4b7b5c5b4b4b",
   "metadata": {},
   "outputs": [
    {
     "name": "stdout",
     "output_type": "stream",
     "text": [
      "dfyuckuv\n"
     ]
    }
   ],
   "source": [
    "#25. Extract all alphabets from a string.\n",
    "#extract_alphabet=lambda string: ''.join(filter(lambda char:char.isalpha(), string))\n",
    "string=\"dfyuc465kuv\"\n",
    "print(extract_alphabet(string))\n",
    "\n",
    "def extract_alphabet(string):\n",
    "    alphabet=[char for char in string if char.isalpha()]\n",
    "    return ''.join(alphabet)\n"
   ]
  },
  {
   "cell_type": "code",
   "execution_count": 23,
   "id": "9fc13193-6c54-4bda-8692-2c495024ed93",
   "metadata": {},
   "outputs": [
    {
     "name": "stdout",
     "output_type": "stream",
     "text": [
      "6\n",
      "4\n"
     ]
    }
   ],
   "source": [
    "#26. Count the number of uppercase letters in a string.\n",
    "upper_char=lambda string:''.join(filter(lambda char:char.isupper(),string))\n",
    "\n",
    "count_upper=len(upper_char(\"I ajdj AKJHB\"))\n",
    "print(count_upper)\n",
    "\n",
    "def count_uppercase_letters(string):\n",
    "    count = sum(1 for char in string if char.isupper())\n",
    "    return count\n",
    "print(count_uppercase_letters(\"tyuyQGHEhgff78\"))"
   ]
  },
  {
   "cell_type": "code",
   "execution_count": 24,
   "id": "0fb677c1-58eb-4401-a63a-28eb05aef3c5",
   "metadata": {},
   "outputs": [
    {
     "name": "stdout",
     "output_type": "stream",
     "text": [
      "4\n",
      "8\n"
     ]
    }
   ],
   "source": [
    "#27. Count the number of lowercase letters in a string.\n",
    "lower_char=lambda string:''.join(filter(lambda char:char.islower(),string))\n",
    "\n",
    "count_lower=len(lower_char(\"I ajdj AKJHB\"))\n",
    "print(count_lower)\n",
    "\n",
    "def count_lowercase_letters(string):\n",
    "    count = sum(1 for char in string if char.islower())\n",
    "    return count\n",
    "print(count_lowercase_letters(\"tyuyQGHEhgff78\"))"
   ]
  },
  {
   "cell_type": "code",
   "execution_count": 29,
   "id": "26138450-3af5-4e3b-98e0-1aeb400298b1",
   "metadata": {},
   "outputs": [
    {
     "name": "stdout",
     "output_type": "stream",
     "text": [
      "hELLO wORLD\n"
     ]
    }
   ],
   "source": [
    "#28. Swap the case of each character in a string.\n",
    "'''def swap_case(input_string):\n",
    "    swapped_string = input_string.swapcase()\n",
    "    return swapped_string\n",
    "swap_case=lambda string:string.swap_case()\n",
    "# Example input string\n",
    "input_string = \"HelloWORLD\"\n",
    "result = swap_case(input_string)\n",
    "print(result)\n",
    "\n",
    "swap_case = lambda string: ''.join(map(lambda char: char.lower() if char.isupper() else char.upper(), string))\n",
    "string = \"Hello World\"\n",
    "swapped_string = swap_case(string)\n",
    "print(swapped_string)'''  # Output: hELLO wORLD\n",
    "\n",
    "\n",
    "swap_case = lambda string: string.swapcase()\n",
    "print(swap_case(\"Hello World\"))  # Output: hELLO wORLD"
   ]
  },
  {
   "cell_type": "code",
   "execution_count": 30,
   "id": "df18b5b5-7d82-493b-9329-3de1f82e3745",
   "metadata": {},
   "outputs": [
    {
     "data": {
      "text/plain": [
       "'removing a  and replacing'"
      ]
     },
     "execution_count": 30,
     "metadata": {},
     "output_type": "execute_result"
    }
   ],
   "source": [
    "#29. Remove a specific word from a string.\n",
    "def remove_word(string, word):\n",
    "    return string.replace(word, \"\")\n",
    "remove_word(\"removing a word and replacing\",\"word\")"
   ]
  },
  {
   "cell_type": "code",
   "execution_count": 31,
   "id": "096d9f31-ec03-4243-8c13-1926129bb310",
   "metadata": {},
   "outputs": [
    {
     "name": "stdout",
     "output_type": "stream",
     "text": [
      "True\n",
      "False\n"
     ]
    }
   ],
   "source": [
    "#30. Check if a string is a valid email address.\n",
    "import re  # Import the regular expression module\n",
    "\n",
    "def is_valid_email(email):\n",
    "    pattern = r'^[\\w\\.-]+@[\\w\\.-]+\\.\\w+$'  # Regular expression pattern for a basic email validation\n",
    "    if re.match(pattern, email):\n",
    "        return True\n",
    "    else:\n",
    "        return False\n",
    "\n",
    "# Example email addresses\n",
    "email1 = \"example@email.com\"\n",
    "email2 = \"invalid-email\"\n",
    "result1 = is_valid_email(email1)\n",
    "result2 = is_valid_email(email2)\n",
    "print(result1)\n",
    "print(result2)"
   ]
  },
  {
   "cell_type": "code",
   "execution_count": 1,
   "id": "479d95fc-660b-4dfd-9943-a5cd252c6ede",
   "metadata": {},
   "outputs": [
    {
     "name": "stdout",
     "output_type": "stream",
     "text": [
      "example\n"
     ]
    }
   ],
   "source": [
    "#31. Extract the username from an email address string.\n",
    "\n",
    "def extract_username(email):\n",
    "    username = email.split('@')[0]  # Split the email address at \"@\" and take the first part\n",
    "    return username\n",
    "\n",
    "# Example email address\n",
    "email = \"example@email.com\"\n",
    "result = extract_username(email)\n",
    "print(result)"
   ]
  },
  {
   "cell_type": "code",
   "execution_count": 22,
   "id": "32becd89-f5fe-4ad3-96ff-1c169e3a9693",
   "metadata": {},
   "outputs": [
    {
     "name": "stdout",
     "output_type": "stream",
     "text": [
      "email.com\n"
     ]
    }
   ],
   "source": [
    "#32. Extract the domain name from an email address string.\n",
    "def extract_domain(email):\n",
    "    domain = email.split('@')[1]  # Split the email address at \"@\" and take the second part\n",
    "    return domain\n",
    "\n",
    "# Example email address\n",
    "email = \"example@email.com\"\n",
    "result = extract_domain(email)\n",
    "print(result)"
   ]
  },
  {
   "cell_type": "code",
   "execution_count": 23,
   "id": "2a44b8fc-2e9e-4b56-86f5-c7425f452888",
   "metadata": {},
   "outputs": [
    {
     "name": "stdout",
     "output_type": "stream",
     "text": [
      "Hello world! How are you?\n"
     ]
    }
   ],
   "source": [
    "#33. Replace multiple spaces in a string with a single space.\n",
    "def replace_multiple_spaces(input_string):\n",
    "    cleaned_string = ' '.join(input_string.split())  # Split the string at spaces and then join using a single space\n",
    "    return cleaned_string\n",
    "\n",
    "# Example input string with multiple spaces\n",
    "input_string = \"Hello     world!   How   are   you?\"\n",
    "result = replace_multiple_spaces(input_string)\n",
    "print(result)"
   ]
  },
  {
   "cell_type": "code",
   "execution_count": 1,
   "id": "ddd40467-d36a-4d7e-a732-73e5babdfe7a",
   "metadata": {},
   "outputs": [
    {
     "name": "stdout",
     "output_type": "stream",
     "text": [
      "Invalid URL\n"
     ]
    }
   ],
   "source": [
    "#34. Check if a string is a valid URL.\n",
    "\n",
    "import re\n",
    "\n",
    "def is_valid_url(url):\n",
    "    pattern = re.compile(r'^https?://(?:[-\\w.]|(?:%[\\da-fA-F]{2}))+')\n",
    "    return bool(re.match(pattern, url))\n",
    "\n",
    "# Example usage\n",
    "url = \"<link>https://www.example.com</link>\"\n",
    "if is_valid_url(url):\n",
    "    print(\"Valid URL\")\n",
    "else:\n",
    "    print(\"Invalid URL\")"
   ]
  },
  {
   "cell_type": "code",
   "execution_count": 8,
   "id": "357ac805-0282-44b1-92db-7c1e532a6756",
   "metadata": {},
   "outputs": [
    {
     "name": "stdout",
     "output_type": "stream",
     "text": [
      "Protocol 1: https\n",
      "Protocol 2: http\n",
      "Protocol 3: ftp\n",
      "https\n"
     ]
    }
   ],
   "source": [
    "#35. Extract the protocol (http or https) from a URL string.\n",
    "def extract_protocol(url):\n",
    "# Find the index of the first occurrence of \"://\"\n",
    "    protocol_end = url.find(\"://\")\n",
    "    if protocol_end != -1:\n",
    "# Extract the protocol from the URL\n",
    "        protocol = url[:protocol_end]\n",
    "        return protocol\n",
    "    else:\n",
    "        return None\n",
    "# Example URL strings\n",
    "url1 = \"https://www.example.com\"\n",
    "url2 = \"http://google.com\"\n",
    "url3 = \"ftp://ftp.example.com\"\n",
    "# Extract protocols\n",
    "protocol1 = extract_protocol(url1)\n",
    "protocol2 = extract_protocol(url2)\n",
    "protocol3 = extract_protocol(url3)\n",
    "# Print extracted protocols\n",
    "print(\"Protocol 1:\", protocol1)\n",
    "print(\"Protocol 2:\", protocol2)\n",
    "print(\"Protocol 3:\", protocol3)\n",
    "#--------------------------------------------------------or------------------------\n",
    "\n",
    "from urllib.parse import urlparse\n",
    "\n",
    "def extract_protocol(url):\n",
    "    parsed_url = urlparse(url)\n",
    "    return parsed_url.scheme\n",
    "\n",
    "# Example usage\n",
    "url = \"https://www.example.com\"\n",
    "protocol = extract_protocol(url)\n",
    "print(protocol)"
   ]
  },
  {
   "cell_type": "code",
   "execution_count": 17,
   "id": "486c20e6-950f-4b03-815b-4a28c893efc7",
   "metadata": {},
   "outputs": [
    {
     "name": "stdout",
     "output_type": "stream",
     "text": [
      "Character: 'h', Frequency: 1\n",
      "Character: 'e', Frequency: 1\n",
      "Character: 'l', Frequency: 3\n",
      "Character: 'o', Frequency: 2\n",
      "Character: ' ', Frequency: 1\n",
      "Character: 'w', Frequency: 1\n",
      "Character: 'r', Frequency: 1\n",
      "Character: 'd', Frequency: 1\n",
      "Counter({'l': 3, 'o': 2, 'H': 1, 'e': 1, ',': 1, ' ': 1, 'W': 1, 'r': 1, 'd': 1, '!': 1})\n"
     ]
    }
   ],
   "source": [
    "#36. Find the frequency of each character in a string.\n",
    "def character_frequency(input_string):\n",
    "    frequency = {} # Create an empty dictionary to store character frequencies\n",
    "    for char in input_string:\n",
    "        if char in frequency:\n",
    "            frequency[char] += 1 # Increment the frequency count if the character is already in the dictionary\n",
    "        else:\n",
    "            frequency[char] = 1 # Initialize the frequency count to 1 if the character is not in the dictionary\n",
    "    return frequency\n",
    "# Example string\n",
    "input_str = \"hello world\"\n",
    "# Calculate character frequencies\n",
    "char_freq = character_frequency(input_str)\n",
    "# Print character frequencies\n",
    "for char, freq in char_freq.items():\n",
    "    print(f\"Character: '{char}', Frequency: {freq}\")\n",
    "\n",
    "#------------------------\n",
    "from collections import Counter\n",
    "\n",
    "def character_frequency(string):\n",
    "    frequency = Counter(string)\n",
    "    return frequency\n",
    "\n",
    "# Example usage\n",
    "string = \"Hello, World!\"\n",
    "frequency = character_frequency(string)\n",
    "print(frequency)"
   ]
  },
  {
   "cell_type": "code",
   "execution_count": 23,
   "id": "a596370c-81aa-482f-8d8d-fa88e97dd1ba",
   "metadata": {},
   "outputs": [
    {
     "name": "stdout",
     "output_type": "stream",
     "text": [
      "Original string: Hello, world! How's it going?\n",
      "Cleaned string: Hello world Hows it going\n"
     ]
    }
   ],
   "source": [
    "#37. Remove all punctuation from a string.\n",
    "import string\n",
    "def remove_punctuation(input_string):\n",
    "    # Create a translation table to remove punctuation\n",
    "    translator = str.maketrans(\"\", \"\", string.punctuation)\n",
    "    # Use the translation table to remove punctuation from the input string\n",
    "    clean_string = input_string.translate(translator)\n",
    "    return clean_string\n",
    "# Example string with punctuation\n",
    "input_str = \"Hello, world! How's it going?\"\n",
    "# Remove punctuation\n",
    "cleaned_str = remove_punctuation(input_str)\n",
    "# Print the cleaned string\n",
    "print(\"Original string:\", input_str)\n",
    "print(\"Cleaned string:\", cleaned_str)\n",
    "\n",
    "\n"
   ]
  },
  {
   "cell_type": "code",
   "execution_count": 24,
   "id": "085fec06-64bc-4d02-b193-95a71d9d96fa",
   "metadata": {},
   "outputs": [
    {
     "name": "stdout",
     "output_type": "stream",
     "text": [
      "'12345' contains only digits: True\n",
      "'Hello123' contains only digits: False\n",
      "'456.789' contains only digits: False\n"
     ]
    }
   ],
   "source": [
    "#38. Check if a string contains only digits.\n",
    "def contains_only_digits(input_string):\n",
    "# Check if all characters in the string are digits\n",
    "    return input_string.isdigit()\n",
    "# Example strings\n",
    "string1 = \"12345\"\n",
    "string2 = \"Hello123\"\n",
    "string3 = \"456.789\"\n",
    "# Check if strings contain only digits\n",
    "result1 = contains_only_digits(string1)\n",
    "result2 = contains_only_digits(string2)\n",
    "result3 = contains_only_digits(string3)\n",
    "# Print the results\n",
    "print(f\"'{string1}' contains only digits:\", result1)\n",
    "print(f\"'{string2}' contains only digits:\", result2)\n",
    "print(f\"'{string3}' contains only digits:\", result3)"
   ]
  },
  {
   "cell_type": "code",
   "execution_count": 25,
   "id": "120ffa91-dcb9-4cac-b861-8cce96cc05f3",
   "metadata": {},
   "outputs": [
    {
     "name": "stdout",
     "output_type": "stream",
     "text": [
      "String contains only alphabets\n"
     ]
    }
   ],
   "source": [
    "#39. Check if a string contains only alphabets.\n",
    "def contains_only_alphabets(string):\n",
    "    return string.isalpha()\n",
    "\n",
    "# Example usage\n",
    "string = \"Hello\"\n",
    "if contains_only_alphabets(string):\n",
    "    print(\"String contains only alphabets\")\n",
    "else:\n",
    "    print(\"String contains non-alphabetic characters\")\n",
    "    "
   ]
  },
  {
   "cell_type": "code",
   "execution_count": 26,
   "id": "e8e9130f-7016-4a95-981a-234f3f8f79c6",
   "metadata": {},
   "outputs": [
    {
     "name": "stdout",
     "output_type": "stream",
     "text": [
      "Original string: Hello, world!\n",
      "List of characters: ['H', 'e', 'l', 'l', 'o', ',', ' ', 'w', 'o', 'r', 'l', 'd', '!']\n"
     ]
    }
   ],
   "source": [
    "#40. Convert a string to a list of characters.\n",
    "def string_to_list(input_string):\n",
    "# Use list() constructor to convert the string to a list of characters\n",
    "    char_list = list(input_string)\n",
    "    return char_list\n",
    "# Example string\n",
    "input_str = \"Hello, world!\"\n",
    "# Convert the string to a list of characters\n",
    "char_list = string_to_list(input_str)\n",
    "# Print the list of characters\n",
    "print(\"Original string:\", input_str)\n",
    "print(\"List of characters:\", char_list)\n"
   ]
  },
  {
   "cell_type": "code",
   "execution_count": 29,
   "id": "560cfe7d-f96f-4455-8431-f2c15a32d33c",
   "metadata": {},
   "outputs": [
    {
     "name": "stdout",
     "output_type": "stream",
     "text": [
      "'listen' and 'silent' are anagrams: True\n"
     ]
    }
   ],
   "source": [
    "#41. Check if two strings are anagrams.\n",
    "def are_anagrams(str1, str2):\n",
    "# Remove spaces and convert strings to lowercase for accurate comparison\n",
    "    str1 = str1.replace(\" \", \"\").lower()\n",
    "    str2 = str2.replace(\" \", \"\").lower()\n",
    "    # Sort the characters in both strings and compare\n",
    "    return sorted(str1) == sorted(str2)\n",
    "# Example strings\n",
    "string1 = \"listen\"\n",
    "string2 = \"silent\"\n",
    "string3 = \"hello\"\n",
    "string4 = \"world\"\n",
    "# Check if strings are anagrams\n",
    "result1 = are_anagrams(string1, string2)\n",
    "result2 = are_anagrams(string3, string4)\n",
    "# Print the results\n",
    "print(f\"'{string1}' and '{string2}' are anagrams:\", result1)\n",
    "\n"
   ]
  },
  {
   "cell_type": "code",
   "execution_count": 30,
   "id": "41cb7377-f47c-4393-ae14-2da5702a473b",
   "metadata": {},
   "outputs": [
    {
     "name": "stdout",
     "output_type": "stream",
     "text": [
      "Khoor, Zruog!\n"
     ]
    }
   ],
   "source": [
    "#42. Encode a string using a Caesar cipher.\n",
    "def caesar_cipher_encode(string, shift):\n",
    "    encoded = \"\"\n",
    "    for char in string:\n",
    "        if char.isalpha():\n",
    "            ascii_offset = ord('a') if char.islower() else ord('A')\n",
    "            encrypted_char = chr((ord(char) - ascii_offset + shift) % 26 + ascii_offset)\n",
    "            encoded += encrypted_char\n",
    "        else:\n",
    "            encoded += char\n",
    "    return encoded\n",
    "\n",
    "# Example usage\n",
    "string = \"Hello, World!\"\n",
    "shift = 3\n",
    "encoded_string = caesar_cipher_encode(string, shift)\n",
    "print(encoded_string)"
   ]
  },
  {
   "cell_type": "code",
   "execution_count": 31,
   "id": "b480ab53-f1f7-4f85-a8fa-945e063edd2d",
   "metadata": {},
   "outputs": [
    {
     "name": "stdout",
     "output_type": "stream",
     "text": [
      "Hello, World!\n"
     ]
    }
   ],
   "source": [
    "#43. Decode a Caesar cipher encoded string.\n",
    "def caesar_cipher_decode(string, shift):\n",
    "    decoded = \"\"\n",
    "    for char in string:\n",
    "        if char.isalpha():\n",
    "            ascii_offset = ord('a') if char.islower() else ord('A')\n",
    "            decrypted_char = chr((ord(char) - ascii_offset - shift) % 26 + ascii_offset)\n",
    "            decoded += decrypted_char\n",
    "        else:\n",
    "            decoded += char\n",
    "    return decoded\n",
    "\n",
    "# Example usage\n",
    "encoded_string = \"Khoor, Zruog!\"\n",
    "shift = 3\n",
    "decoded_string = caesar_cipher_decode(encoded_string, shift)\n",
    "print(decoded_string)"
   ]
  },
  {
   "cell_type": "code",
   "execution_count": 35,
   "id": "90617cb5-01f4-4505-9feb-552a5bf0bf82",
   "metadata": {},
   "outputs": [
    {
     "name": "stdout",
     "output_type": "stream",
     "text": [
      "Most frequent word: hello\n"
     ]
    }
   ],
   "source": [
    "#44. Find the most frequent word in a string.\n",
    "import re\n",
    "from collections import Counter\n",
    "def most_frequent_word(input_string):\n",
    "# Remove punctuation and convert to lowercase\n",
    "    clean_string = re.sub(r'[^\\w\\s]', '', input_string).lower()\n",
    "# Split the string into words\n",
    "    words = clean_string.split()\n",
    "# Use Counter to count word frequencies\n",
    "    word_counter = Counter(words)\n",
    "# Find the most common word\n",
    "    most_common_word = word_counter.most_common(1)[0][0]\n",
    "    return most_common_word\n",
    "# Example string\n",
    "input_str = \"Hello world, hello there! How's the world?\"\n",
    "# Find the most frequent word\n",
    "most_common = most_frequent_word(input_str)\n",
    "# Print the result\n",
    "print(\"Most frequent word:\", most_common)\n"
   ]
  },
  {
   "cell_type": "code",
   "execution_count": 37,
   "id": "8d397998-7d11-4d02-b777-4358b2939bbf",
   "metadata": {},
   "outputs": [
    {
     "name": "stdout",
     "output_type": "stream",
     "text": [
      "Unique words: {'the', 'world', 'hows', 'hello', 'there'}\n",
      "{'hello', 'world'}\n"
     ]
    }
   ],
   "source": [
    "#45. Find all unique words in a string.\n",
    "import re\n",
    "def unique_words(input_string):\n",
    "# Remove punctuation and convert to lowercase\n",
    "    clean_string = re.sub(r'[^\\w\\s]', '', input_string).lower()\n",
    "# Split the string into words and convert to a set for uniqueness\n",
    "    words = set(clean_string.split())\n",
    "    return words\n",
    "# Example string\n",
    "input_str = \"Hello world, hello there! How's the world?\"\n",
    "# Find unique words\n",
    "unique_word_set = unique_words(input_str)\n",
    "# Print the result\n",
    "print(\"Unique words:\", unique_word_set)\n",
    "\n",
    "#------\n",
    "def unique_words(string):\n",
    "    words = string.lower().split()\n",
    "    unique = set(words)\n",
    "    return unique\n",
    "\n",
    "# Example usage\n",
    "string = \"Hello world hello hello world\"\n",
    "unique = unique_words(string)\n",
    "print(unique)"
   ]
  },
  {
   "cell_type": "code",
   "execution_count": 40,
   "id": "fd60e3e3-0834-418b-a280-443b707418e3",
   "metadata": {},
   "outputs": [
    {
     "name": "stdout",
     "output_type": "stream",
     "text": [
      "3\n",
      "'hello' has 2 syllables.\n",
      "'banana' has 3 syllables.\n",
      "'syllable' has 3 syllables.\n"
     ]
    }
   ],
   "source": [
    "#46. Count the number of syllables in a string.\n",
    "def count_syllables(string):\n",
    "    vowels = \"aeiou\"\n",
    "    count = 0\n",
    "    string = string.lower()\n",
    "    if string[0] in vowels:\n",
    "        count += 1\n",
    "    for index in range(1, len(string)):\n",
    "        if string[index] in vowels and string[index - 1] not in vowels:\n",
    "            count += 1\n",
    "    if string.endswith(\"e\"):\n",
    "        count -= 1\n",
    "    if count == 0:\n",
    "        count += 1\n",
    "    return count\n",
    "\n",
    "# Example usage\n",
    "word = \"banana\"\n",
    "syllable_count = count_syllables(word)\n",
    "print(syllable_count)\n",
    "\n",
    "#------\n",
    "import re\n",
    "def count_syllables(word):\n",
    "# Count vowel groups using regular expression\n",
    "    vowel_groups = re.findall(r'[aeiouy]+', word, re.IGNORECASE)\n",
    "    return len(vowel_groups)\n",
    "# Example words\n",
    "word1 = \"hello\"\n",
    "word2 = \"banana\"\n",
    "word3 = \"syllable\"\n",
    "# Count syllables\n",
    "syllables1 = count_syllables(word1)\n",
    "syllables2 = count_syllables(word2)\n",
    "syllables3 = count_syllables(word3)\n",
    "# Print the results\n",
    "print(f\"'{word1}' has {syllables1} syllables.\")\n",
    "print(f\"'{word2}' has {syllables2} syllables.\")\n",
    "print(f\"'{word3}' has {syllables3} syllables.\")\n"
   ]
  },
  {
   "cell_type": "code",
   "execution_count": 41,
   "id": "fdc53259-6190-44a5-9b79-44ae253c0cae",
   "metadata": {},
   "outputs": [
    {
     "name": "stdout",
     "output_type": "stream",
     "text": [
      "String contains special characters\n"
     ]
    }
   ],
   "source": [
    "#47. Check if a string contains any special characters.\n",
    "import re\n",
    "\n",
    "def has_special_characters(string):\n",
    "    pattern = r'[!@#$%^&*(),.?\":{}|<>]'\n",
    "    if re.search(pattern, string):\n",
    "        return True\n",
    "    else:\n",
    "        return False\n",
    "\n",
    "# Example usage\n",
    "string = \"Hello World!\"\n",
    "if has_special_characters(string):\n",
    "    print(\"String contains special characters\")\n",
    "else:\n",
    "    print(\"String does not contain special characters\")"
   ]
  },
  {
   "cell_type": "code",
   "execution_count": 42,
   "id": "23de2069-244b-481f-a640-affcb3eec4e5",
   "metadata": {},
   "outputs": [
    {
     "name": "stdout",
     "output_type": "stream",
     "text": [
      "Hello how are you?\n"
     ]
    }
   ],
   "source": [
    "#48. Remove the nth word from a string.\n",
    "def remove_nth_word(string, n):\n",
    "    words = string.split()\n",
    "    if n > 0 and n <= len(words):\n",
    "        words.pop(n-1)\n",
    "        return \" \".join(words)\n",
    "    else:\n",
    "        return string\n",
    "\n",
    "# Example usage\n",
    "string = \"Hello world, how are you?\"\n",
    "n = 2\n",
    "new_string = remove_nth_word(string, n)\n",
    "print(new_string)"
   ]
  },
  {
   "cell_type": "code",
   "execution_count": 43,
   "id": "c95b075f-933d-4759-b2eb-5ef6cdf4390e",
   "metadata": {},
   "outputs": [
    {
     "name": "stdout",
     "output_type": "stream",
     "text": [
      "Hello world, beautiful how are you?\n"
     ]
    }
   ],
   "source": [
    "#49. Insert a word at the nth position in a string.\n",
    "def insert_word(string, word, n):\n",
    "    words = string.split()\n",
    "    if n > 0 and n <= len(words) + 1:\n",
    "        words.insert(n-1, word)\n",
    "        return \" \".join(words)\n",
    "    else:\n",
    "        return string\n",
    "\n",
    "# Example usage\n",
    "string = \"Hello world, how are you?\"\n",
    "word = \"beautiful\"\n",
    "n = 3\n",
    "new_string = insert_word(string, word, n)\n",
    "print(new_string)"
   ]
  },
  {
   "cell_type": "code",
   "execution_count": 46,
   "id": "117659c2-641d-4082-96bc-7293db340234",
   "metadata": {},
   "outputs": [
    {
     "name": "stdout",
     "output_type": "stream",
     "text": [
      "[['Name', 'Age', 'Location'], ['John', '25', 'New York'], ['Jane', '30', 'Los Angeles']]\n",
      "['Name', ' Age', ' Country']\n",
      "['John', ' 25', ' USA']\n",
      "['Alice', ' 30', ' Canada']\n",
      "['Bob', ' 22', ' UK']\n"
     ]
    }
   ],
   "source": [
    "#50. Convert a CSV string to a list of lists.\n",
    "import csv\n",
    "\n",
    "def csv_to_list(csv_string):\n",
    "    rows = csv_string.strip().split(\"\\n\")\n",
    "    data = []\n",
    "    for row in rows:\n",
    "        row_data = row.split(\",\")\n",
    "        data.append(row_data)\n",
    "    return data\n",
    "\n",
    "# Example usage\n",
    "csv_string = \"Name,Age,Location\\nJohn,25,New York\\nJane,30,Los Angeles\"\n",
    "csv_list = csv_to_list(csv_string)\n",
    "print(csv_list)\n",
    "\n",
    "#--------\n",
    "\n",
    "def csv_string_to_list(csv_string):\n",
    "# Split the CSV string into lines\n",
    "    lines = csv_string.split('\\n')\n",
    "# Initialize an empty list to store the result\n",
    "    result = []\n",
    "    for line in lines:\n",
    "# Split each line into fields using comma as the delimiter\n",
    "        fields = line.split(',')\n",
    "# Append the fields to the result list as a row\n",
    "        result.append(fields)\n",
    "    return result\n",
    "# Example CSV string\n",
    "csv_data = \"Name, Age, Country\\nJohn, 25, USA\\nAlice, 30, Canada\\nBob, 22, UK\"\n",
    "# Convert CSV string to a list of lists\n",
    "list_of_lists = csv_string_to_list(csv_data)\n",
    "# Print the result\n",
    "for row in list_of_lists:\n",
    "    print(row)\n"
   ]
  },
  {
   "cell_type": "code",
   "execution_count": null,
   "id": "ee8d727e-bd4f-4b04-ba3d-f2d8caf509a0",
   "metadata": {},
   "outputs": [],
   "source": []
  }
 ],
 "metadata": {
  "kernelspec": {
   "display_name": "Python 3 (ipykernel)",
   "language": "python",
   "name": "python3"
  },
  "language_info": {
   "codemirror_mode": {
    "name": "ipython",
    "version": 3
   },
   "file_extension": ".py",
   "mimetype": "text/x-python",
   "name": "python",
   "nbconvert_exporter": "python",
   "pygments_lexer": "ipython3",
   "version": "3.10.8"
  }
 },
 "nbformat": 4,
 "nbformat_minor": 5
}
