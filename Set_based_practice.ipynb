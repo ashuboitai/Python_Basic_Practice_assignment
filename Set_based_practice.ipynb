{
 "cells": [
  {
   "cell_type": "code",
   "execution_count": 1,
   "id": "86031dca-8046-420e-9b87-b4bfcdd4255f",
   "metadata": {},
   "outputs": [
    {
     "name": "stdout",
     "output_type": "stream",
     "text": [
      "{1, 2, 3, 4, 5}\n"
     ]
    }
   ],
   "source": [
    "#1. Create a set with integers from 1 to 5.\n",
    "my_set = {1, 2, 3, 4, 5}\n",
    "print(my_set)"
   ]
  },
  {
   "cell_type": "code",
   "execution_count": 2,
   "id": "306a99df-701f-4ba3-ad86-03e708a3ce34",
   "metadata": {},
   "outputs": [
    {
     "name": "stdout",
     "output_type": "stream",
     "text": [
      "{1, 2, 3, 4, 5, 6}\n"
     ]
    }
   ],
   "source": [
    "#2. Add an element to a set.\n",
    "\n",
    "my_set = {1, 2, 3, 4, 5}\n",
    "my_set.add(6)\n",
    "print(my_set)"
   ]
  },
  {
   "cell_type": "code",
   "execution_count": 3,
   "id": "b1ff4f07-5af2-4c8b-b5e6-644d0c7c35c5",
   "metadata": {},
   "outputs": [
    {
     "name": "stdout",
     "output_type": "stream",
     "text": [
      "{1, 2, 4, 5}\n"
     ]
    }
   ],
   "source": [
    "#3. Remove an element from a set.\n",
    "\n",
    "my_set = {1, 2, 3, 4, 5}\n",
    "my_set.remove(3)\n",
    "print(my_set)"
   ]
  },
  {
   "cell_type": "code",
   "execution_count": 4,
   "id": "c496d82f-b377-46e8-9dd4-c38fe020723b",
   "metadata": {},
   "outputs": [
    {
     "name": "stdout",
     "output_type": "stream",
     "text": [
      "Element exists in the set\n"
     ]
    }
   ],
   "source": [
    "#4. Check if an element exists in a set.\n",
    "my_set = {1, 2, 3, 4, 5}\n",
    "if 3 in my_set:\n",
    "    print(\"Element exists in the set\")\n",
    "else:\n",
    "    print(\"Element does not exist in the set\")\n"
   ]
  },
  {
   "cell_type": "code",
   "execution_count": 5,
   "id": "f8bb3c5d-3560-4b0b-9e7b-ad456f07b683",
   "metadata": {},
   "outputs": [
    {
     "name": "stdout",
     "output_type": "stream",
     "text": [
      "5\n"
     ]
    }
   ],
   "source": [
    "#5. Find the length of a set without using the `len()` function.\n",
    "my_set = {1, 2, 3, 4, 5}\n",
    "count = sum(1 for _ in my_set)\n",
    "print(count)"
   ]
  },
  {
   "cell_type": "code",
   "execution_count": 6,
   "id": "99ce21f8-da9d-4d0c-a249-afa31996c157",
   "metadata": {},
   "outputs": [
    {
     "name": "stdout",
     "output_type": "stream",
     "text": [
      "set()\n"
     ]
    }
   ],
   "source": [
    "#6. Clear all elements from a set.\n",
    "\n",
    "my_set = {1, 2, 3, 4, 5}\n",
    "my_set.clear()\n",
    "print(my_set)"
   ]
  },
  {
   "cell_type": "code",
   "execution_count": 7,
   "id": "6ee7c481-2dbf-43c9-9b85-f4af83505aa7",
   "metadata": {},
   "outputs": [
    {
     "name": "stdout",
     "output_type": "stream",
     "text": [
      "{2, 4, 6, 8, 10}\n"
     ]
    }
   ],
   "source": [
    "#7. Create a set of even numbers from 1 to 10.\n",
    "even_set = {x for x in range(1, 11) if x % 2 == 0}\n",
    "print(even_set)\n"
   ]
  },
  {
   "cell_type": "code",
   "execution_count": 8,
   "id": "1671d608-1aff-4c62-b2dc-adaa2b25ff65",
   "metadata": {},
   "outputs": [
    {
     "name": "stdout",
     "output_type": "stream",
     "text": [
      "{1, 3, 5, 7, 9}\n"
     ]
    }
   ],
   "source": [
    "#8. Create a set of odd numbers from 1 to 10.\n",
    "odd_set = {x for x in range(1, 11) if x % 2 != 0}\n",
    "print(odd_set)\n"
   ]
  },
  {
   "cell_type": "code",
   "execution_count": 9,
   "id": "6e1dcd25-96f8-4e6d-9d3f-b40f12f77189",
   "metadata": {},
   "outputs": [
    {
     "name": "stdout",
     "output_type": "stream",
     "text": [
      "{1, 2, 3, 4, 5}\n"
     ]
    }
   ],
   "source": [
    "#9. Find the union of two sets.\n",
    "set1 = {1, 2, 3}\n",
    "set2 = {3, 4, 5}\n",
    "union_set = set1.union(set2)\n",
    "print(union_set)\n"
   ]
  },
  {
   "cell_type": "code",
   "execution_count": 10,
   "id": "7bc09a48-958b-407d-903d-e10ed2716383",
   "metadata": {},
   "outputs": [
    {
     "name": "stdout",
     "output_type": "stream",
     "text": [
      "{3}\n"
     ]
    }
   ],
   "source": [
    "#10. Find the intersection of two sets.\n",
    "set1 = {1, 2, 3}\n",
    "set2 = {3, 4, 5}\n",
    "intersection_set = set1.intersection(set2)\n",
    "print(intersection_set)\n"
   ]
  },
  {
   "cell_type": "code",
   "execution_count": 11,
   "id": "eec717c9-bd88-476e-9d00-525a54d326f7",
   "metadata": {},
   "outputs": [
    {
     "name": "stdout",
     "output_type": "stream",
     "text": [
      "{1, 2}\n"
     ]
    }
   ],
   "source": [
    "#11. Find the difference between two sets.\n",
    "set1 = {1, 2, 3}\n",
    "set2 = {3, 4, 5}\n",
    "difference_set = set1.difference(set2)\n",
    "print(difference_set)\n"
   ]
  },
  {
   "cell_type": "code",
   "execution_count": 12,
   "id": "e9118c8e-501a-4bdb-987c-967b4221567d",
   "metadata": {},
   "outputs": [
    {
     "name": "stdout",
     "output_type": "stream",
     "text": [
      "Set1 is a subset of Set2\n"
     ]
    }
   ],
   "source": [
    "#12. Check if a set is a subset of another set.\n",
    "set1 = {1, 2, 3}\n",
    "set2 = {1, 2, 3, 4, 5}\n",
    "if set1.issubset(set2):\n",
    "    print(\"Set1 is a subset of Set2\")\n",
    "else:\n",
    "    print(\"Set1 is not a subset of Set2\")\n"
   ]
  },
  {
   "cell_type": "code",
   "execution_count": 13,
   "id": "434b6cde-84da-41e4-8b9c-5bd7c4de2277",
   "metadata": {},
   "outputs": [
    {
     "name": "stdout",
     "output_type": "stream",
     "text": [
      "Set1 is a superset of Set2\n"
     ]
    }
   ],
   "source": [
    "#13. Check if a set is a superset of another set.\n",
    "set1 = {1, 2, 3, 4, 5}\n",
    "set2 = {1, 2, 3}\n",
    "if set1.issuperset(set2):\n",
    "    print(\"Set1 is a superset of Set2\")\n",
    "else:\n",
    "    print(\"Set1 is not a superset of Set2\")"
   ]
  },
  {
   "cell_type": "code",
   "execution_count": 14,
   "id": "d775ecd9-29cf-4f83-ad96-0e1d9a30aeff",
   "metadata": {},
   "outputs": [
    {
     "name": "stdout",
     "output_type": "stream",
     "text": [
      "{1, 2, 3, 4, 5}\n"
     ]
    }
   ],
   "source": [
    "#14. Create a set from a list.\n",
    "\n",
    "my_list = [1, 2, 3, 4, 5]\n",
    "my_set = set(my_list)\n",
    "print(my_set)"
   ]
  },
  {
   "cell_type": "code",
   "execution_count": 15,
   "id": "20eee177-d974-4075-9f39-e14716863dd8",
   "metadata": {},
   "outputs": [
    {
     "name": "stdout",
     "output_type": "stream",
     "text": [
      "[1, 2, 3, 4, 5]\n"
     ]
    }
   ],
   "source": [
    "#15. Convert a set to a list.\n",
    "my_set = {1, 2, 3, 4, 5}\n",
    "my_list = list(my_set)\n",
    "print(my_list)"
   ]
  },
  {
   "cell_type": "code",
   "execution_count": 16,
   "id": "b4f589a9-0841-4cb2-a846-b2de63476220",
   "metadata": {},
   "outputs": [
    {
     "name": "stdout",
     "output_type": "stream",
     "text": [
      "{1, 2, 4, 5}\n"
     ]
    }
   ],
   "source": [
    "#16. Remove a random element from a set.\n",
    "import random\n",
    "\n",
    "my_set = {1, 2, 3, 4, 5}\n",
    "random_element = random.choice(list(my_set))\n",
    "my_set.remove(random_element)\n",
    "print(my_set)\n"
   ]
  },
  {
   "cell_type": "code",
   "execution_count": 17,
   "id": "2fd25779-a034-4d1c-840e-f2acc8ad8cbd",
   "metadata": {},
   "outputs": [
    {
     "name": "stdout",
     "output_type": "stream",
     "text": [
      "1\n",
      "{2, 3, 4, 5}\n"
     ]
    }
   ],
   "source": [
    "#17. Pop an element from a set.\n",
    "my_set = {1, 2, 3, 4, 5}\n",
    "popped_element = my_set.pop()\n",
    "print(popped_element)\n",
    "print(my_set)"
   ]
  },
  {
   "cell_type": "code",
   "execution_count": 18,
   "id": "026dd181-d752-4c9f-95d4-d4931d7cfd11",
   "metadata": {},
   "outputs": [
    {
     "name": "stdout",
     "output_type": "stream",
     "text": [
      "The sets have no elements in common\n"
     ]
    }
   ],
   "source": [
    "#18. Check if two sets have no elements in common.\n",
    "\n",
    "set1 = {1, 2, 3}\n",
    "set2 = {4, 5, 6}\n",
    "if set1.isdisjoint(set2):\n",
    "    print(\"The sets have no elements in common\")\n",
    "else:\n",
    "    print(\"The sets have elements in common\")"
   ]
  },
  {
   "cell_type": "code",
   "execution_count": 19,
   "id": "58e1b5cf-2a62-4461-9971-baa95a5c02d9",
   "metadata": {},
   "outputs": [
    {
     "name": "stdout",
     "output_type": "stream",
     "text": [
      "{1, 2, 4, 5}\n"
     ]
    }
   ],
   "source": [
    "#19. Find the symmetric difference between two sets.\n",
    "set1 = {1, 2, 3}\n",
    "set2 = {3, 4, 5}\n",
    "symmetric_difference = set1.symmetric_difference(set2)\n",
    "print(symmetric_difference)"
   ]
  },
  {
   "cell_type": "code",
   "execution_count": 20,
   "id": "548fd65e-75c5-4b6b-933e-10329c85306e",
   "metadata": {},
   "outputs": [
    {
     "name": "stdout",
     "output_type": "stream",
     "text": [
      "{1, 2, 3, 4, 5}\n"
     ]
    }
   ],
   "source": [
    "#20. Update a set with elements from another set.\n",
    "set1 = {1, 2, 3}\n",
    "set2 = {3, 4, 5}\n",
    "set1.update(set2)\n",
    "print(set1)"
   ]
  },
  {
   "cell_type": "code",
   "execution_count": 21,
   "id": "1dc30c99-1666-401d-b7ae-8c4046272b5d",
   "metadata": {},
   "outputs": [
    {
     "name": "stdout",
     "output_type": "stream",
     "text": [
      "{2, 3, 5, 7, 11}\n"
     ]
    }
   ],
   "source": [
    "#21. Create a set of the first 5 prime numbers.\n",
    "prime_set = {2, 3, 5, 7, 11}\n",
    "print(prime_set)"
   ]
  },
  {
   "cell_type": "code",
   "execution_count": 22,
   "id": "4f119a40-cc96-4d34-b963-d4c83dcf8032",
   "metadata": {},
   "outputs": [
    {
     "name": "stdout",
     "output_type": "stream",
     "text": [
      "The sets are identical\n"
     ]
    }
   ],
   "source": [
    "#22. Check if two sets are identical.\n",
    "set1 = {1, 2, 3}\n",
    "set2 = {3, 2, 1}\n",
    "if set1 == set2:\n",
    "    print(\"The sets are identical\")\n",
    "else:\n",
    "    print(\"The sets are not identical\")\n"
   ]
  },
  {
   "cell_type": "code",
   "execution_count": 24,
   "id": "612a99bf-43e6-428d-b948-a55002686d44",
   "metadata": {},
   "outputs": [
    {
     "name": "stdout",
     "output_type": "stream",
     "text": [
      "frozenset({1, 2, 3, 4, 5})\n"
     ]
    }
   ],
   "source": [
    "#23. Create a frozen set.\n",
    "my_set = {1, 2, 3, 4, 5}\n",
    "frozen_set = frozenset(my_set)\n",
    "print(frozen_set)\n"
   ]
  },
  {
   "cell_type": "code",
   "execution_count": 25,
   "id": "57175853-e81a-41ce-970b-dc644ec84abb",
   "metadata": {},
   "outputs": [
    {
     "name": "stdout",
     "output_type": "stream",
     "text": [
      "The sets are disjoint\n"
     ]
    }
   ],
   "source": [
    "#24. Check if a set is disjoint with another set.\n",
    "set1 = {1, 2, 3}\n",
    "set2 = {4, 5, 6}\n",
    "if set1.isdisjoint(set2):\n",
    "    print(\"The sets are disjoint\")\n",
    "else:\n",
    "    print(\"The sets are not disjoint\")"
   ]
  },
  {
   "cell_type": "code",
   "execution_count": 26,
   "id": "d912baec-9a34-4f40-bc96-2f567f63b3d1",
   "metadata": {},
   "outputs": [
    {
     "name": "stdout",
     "output_type": "stream",
     "text": [
      "{1, 4, 9, 16, 25}\n"
     ]
    }
   ],
   "source": [
    "#25. Create a set of squares of numbers from 1 to 5.\n",
    "squares_set = {x**2 for x in range(1, 6)}\n",
    "print(squares_set)"
   ]
  },
  {
   "cell_type": "code",
   "execution_count": 27,
   "id": "98f01e67-fb2b-4503-bd17-cf9a8699a4dd",
   "metadata": {},
   "outputs": [
    {
     "name": "stdout",
     "output_type": "stream",
     "text": [
      "{1, 3, 5}\n"
     ]
    }
   ],
   "source": [
    "#26. Filter out all even numbers from a set.\n",
    "my_set = {1, 2, 3, 4, 5}\n",
    "filtered_set = {x for x in my_set if x % 2 != 0}\n",
    "print(filtered_set)\n"
   ]
  },
  {
   "cell_type": "code",
   "execution_count": 28,
   "id": "ea48037f-41bc-4790-8265-dafacbc466b8",
   "metadata": {},
   "outputs": [
    {
     "name": "stdout",
     "output_type": "stream",
     "text": [
      "{2, 4, 6, 8, 10}\n"
     ]
    }
   ],
   "source": [
    "#27. Multiply all elements in a set by 2.\n",
    "my_set = {1, 2, 3, 4, 5}\n",
    "multiplied_set = {x * 2 for x in my_set}\n",
    "print(multiplied_set)"
   ]
  },
  {
   "cell_type": "code",
   "execution_count": 29,
   "id": "6461b61b-eb94-4fb0-9fee-4e318e60deba",
   "metadata": {},
   "outputs": [
    {
     "name": "stdout",
     "output_type": "stream",
     "text": [
      "{2, 3, 5, 6, 9}\n"
     ]
    }
   ],
   "source": [
    "#28. Create a set of random numbers.\n",
    "import random\n",
    "\n",
    "random_set = {random.randint(1, 10) for _ in range(5)}\n",
    "print(random_set)\n"
   ]
  },
  {
   "cell_type": "code",
   "execution_count": 30,
   "id": "23a046b2-e582-4f97-b615-c075601d34b9",
   "metadata": {},
   "outputs": [
    {
     "name": "stdout",
     "output_type": "stream",
     "text": [
      "The set is empty\n"
     ]
    }
   ],
   "source": [
    "#29. Check if a set is empty.\n",
    "my_set = set()\n",
    "if not my_set:\n",
    "    print(\"The set is empty\")\n",
    "else:\n",
    "    print(\"The set is not empty\")"
   ]
  },
  {
   "cell_type": "code",
   "execution_count": 31,
   "id": "cd3520ae-daae-4bff-b202-3d248fff54ec",
   "metadata": {},
   "outputs": [
    {
     "name": "stdout",
     "output_type": "stream",
     "text": [
      "{frozenset({3, 4, 5}), frozenset({1, 2})}\n"
     ]
    }
   ],
   "source": [
    "#30. Create a nested set (hint: use frozenset).\n",
    "nested_set = {frozenset([1, 2]), frozenset([3, 4, 5])}\n",
    "print(nested_set)\n"
   ]
  },
  {
   "cell_type": "code",
   "execution_count": 32,
   "id": "dc264272-a941-41f1-8e98-665ee5369fe3",
   "metadata": {},
   "outputs": [
    {
     "name": "stdout",
     "output_type": "stream",
     "text": [
      "{1, 2, 4, 5}\n"
     ]
    }
   ],
   "source": [
    "#31. Remove an element from a set using the discard method.\n",
    "my_set = {1, 2, 3, 4, 5}\n",
    "my_set.discard(3)\n",
    "print(my_set)"
   ]
  },
  {
   "cell_type": "code",
   "execution_count": 33,
   "id": "4d80bbd0-4721-4388-bae8-25f5502a54d9",
   "metadata": {},
   "outputs": [
    {
     "name": "stdout",
     "output_type": "stream",
     "text": [
      "The sets are not equal or subsets of each other\n"
     ]
    }
   ],
   "source": [
    "#32. Compare two sets.\n",
    "set1 = {1, 2, 3}\n",
    "set2 = {3, 4, 5}\n",
    "if set1 == set2:\n",
    "    print(\"The sets are equal\")\n",
    "elif set1.issubset(set2):\n",
    "    print(\"Set1 is a subset of Set2\")\n",
    "elif set2.issubset(set1):\n",
    "    print(\"Set2 is a subset of Set1\")\n",
    "else:\n",
    "    print(\"The sets are not equal or subsets of each other\")"
   ]
  },
  {
   "cell_type": "code",
   "execution_count": 34,
   "id": "94e23d31-fcfe-4ef0-8f1b-079119053fbb",
   "metadata": {},
   "outputs": [
    {
     "name": "stdout",
     "output_type": "stream",
     "text": [
      "{'h', 'l', 'e', 'o'}\n"
     ]
    }
   ],
   "source": [
    "#33. Create a set from a string.\n",
    "my_string = \"hello\"\n",
    "my_set = set(my_string)\n",
    "print(my_set)"
   ]
  },
  {
   "cell_type": "code",
   "execution_count": 35,
   "id": "5bc0d752-d7af-4c60-b44b-0d7e26b9cb0a",
   "metadata": {},
   "outputs": [
    {
     "name": "stdout",
     "output_type": "stream",
     "text": [
      "{1, 2, 3}\n"
     ]
    }
   ],
   "source": [
    "#34. Convert a set of strings to a set of integers.\n",
    "string_set = {\"1\", \"2\", \"3\"}\n",
    "int_set = {int(x) for x in string_set}\n",
    "print(int_set)"
   ]
  },
  {
   "cell_type": "code",
   "execution_count": 36,
   "id": "48ad57eb-83a3-4630-b9bc-6e03f4684afb",
   "metadata": {},
   "outputs": [
    {
     "name": "stdout",
     "output_type": "stream",
     "text": [
      "{'2', '1', '3'}\n"
     ]
    }
   ],
   "source": [
    "#35. Convert a set of integers to a set of strings.\n",
    "int_set = {1, 2, 3}\n",
    "string_set = {str(x) for x in int_set}\n",
    "print(string_set)"
   ]
  },
  {
   "cell_type": "code",
   "execution_count": 37,
   "id": "e12c3a79-1558-4375-98e5-4f701fc9ef66",
   "metadata": {},
   "outputs": [
    {
     "name": "stdout",
     "output_type": "stream",
     "text": [
      "{1, 2, 3, 4, 5}\n"
     ]
    }
   ],
   "source": [
    "#36. Create a set from a tuple.\n",
    "my_tuple = (1, 2, 3, 4, 5)\n",
    "my_set = set(my_tuple)\n",
    "print(my_set)"
   ]
  },
  {
   "cell_type": "code",
   "execution_count": 38,
   "id": "bd5d7116-b187-4875-a629-549421c69de1",
   "metadata": {},
   "outputs": [
    {
     "name": "stdout",
     "output_type": "stream",
     "text": [
      "(1, 2, 3, 4, 5)\n"
     ]
    }
   ],
   "source": [
    "#37. Convert a set to a tuple.\n",
    "my_set = {1, 2, 3, 4, 5}\n",
    "my_tuple = tuple(my_set)\n",
    "print(my_tuple)"
   ]
  },
  {
   "cell_type": "code",
   "execution_count": 39,
   "id": "53d1d18a-773e-4d58-898e-9d1ee6f5b362",
   "metadata": {},
   "outputs": [
    {
     "name": "stdout",
     "output_type": "stream",
     "text": [
      "5\n"
     ]
    }
   ],
   "source": [
    "#38. Find the maximum value in a set.\n",
    "my_set = {1, 2, 3, 4, 5}\n",
    "max_value = max(my_set)\n",
    "print(max_value)\n"
   ]
  },
  {
   "cell_type": "code",
   "execution_count": 40,
   "id": "72922fde-08fb-4a85-b66b-065e8dde03ad",
   "metadata": {},
   "outputs": [
    {
     "name": "stdout",
     "output_type": "stream",
     "text": [
      "1\n"
     ]
    }
   ],
   "source": [
    "#39. Find the minimum value in a set.\n",
    "my_set = {1, 2, 3, 4, 5}\n",
    "min_value = min(my_set)\n",
    "print(min_value)\n"
   ]
  },
  {
   "cell_type": "code",
   "execution_count": 41,
   "id": "b0fadc0d-3538-4d86-8f71-dd1da80f3f3d",
   "metadata": {},
   "outputs": [
    {
     "name": "stdin",
     "output_type": "stream",
     "text": [
      "Enter a set of numbers (comma-separated):  4,5,8,6,4\n"
     ]
    },
    {
     "name": "stdout",
     "output_type": "stream",
     "text": [
      "{'6', '4', '5', '8'}\n"
     ]
    }
   ],
   "source": [
    "#40. Create a set from user input.\n",
    "user_input = input(\"Enter a set of numbers (comma-separated): \")\n",
    "user_set = set(user_input.split(\",\"))\n",
    "print(user_set)"
   ]
  },
  {
   "cell_type": "code",
   "execution_count": 42,
   "id": "37f9eaee-3fc5-4ace-ba1f-e894205ca2e3",
   "metadata": {},
   "outputs": [
    {
     "name": "stdout",
     "output_type": "stream",
     "text": [
      "The intersection is empty\n"
     ]
    }
   ],
   "source": [
    "#41. Check if the intersection of two sets is empty.\n",
    "set1 = {1, 2, 3}\n",
    "set2 = {4, 5, 6}\n",
    "intersection = set1.intersection(set2)\n",
    "if not intersection:\n",
    "    print(\"The intersection is empty\")\n",
    "else:\n",
    "    print(\"The intersection is not empty\")"
   ]
  },
  {
   "cell_type": "code",
   "execution_count": 43,
   "id": "6b07f7d9-3611-4892-b43d-bad61a542e21",
   "metadata": {},
   "outputs": [
    {
     "name": "stdout",
     "output_type": "stream",
     "text": [
      "{0, 1, 2}\n"
     ]
    }
   ],
   "source": [
    "#42. Create a set of the first 5 Fibonacci numbers.\n",
    "\n",
    "fibonacci_set = {0, 1}\n",
    "a, b = 0, 1\n",
    "for _ in range(3):\n",
    "    a, b = b, a + b\n",
    "    fibonacci_set.add(a)\n",
    "print(fibonacci_set)"
   ]
  },
  {
   "cell_type": "code",
   "execution_count": 44,
   "id": "84358ed1-215e-432e-9562-c2d38e12bd62",
   "metadata": {},
   "outputs": [
    {
     "name": "stdout",
     "output_type": "stream",
     "text": [
      "[1, 2, 3, 4, 5]\n"
     ]
    }
   ],
   "source": [
    "#43. Remove duplicates from a list using sets.\n",
    "my_list = [1, 2, 2, 3, 3, 4, 5, 5]\n",
    "my_set = set(my_list)\n",
    "unique_list = list(my_set)\n",
    "print(unique_list)"
   ]
  },
  {
   "cell_type": "code",
   "execution_count": 45,
   "id": "3c09a7a4-098e-4130-a340-c762fe7ca752",
   "metadata": {},
   "outputs": [
    {
     "name": "stdout",
     "output_type": "stream",
     "text": [
      "The sets have the same elements\n"
     ]
    }
   ],
   "source": [
    "#44. Check if two sets have the same elements, regardless of their count.\n",
    "set1 = {1, 2, 3}\n",
    "set2 = {3, 2, 1, 1}\n",
    "if set1 == set2:\n",
    "    print(\"The sets have the same elements\")\n",
    "else:\n",
    "    print(\"The sets do not have the same elements\")"
   ]
  },
  {
   "cell_type": "code",
   "execution_count": 46,
   "id": "60d9f129-8f77-481e-885d-e35318934c9e",
   "metadata": {},
   "outputs": [
    {
     "name": "stdout",
     "output_type": "stream",
     "text": [
      "{1, 2, 4, 8, 16}\n"
     ]
    }
   ],
   "source": [
    "#45. Create a set of the first `n` powers of 2.\n",
    "n = 5\n",
    "powers_of_2 = {2**x for x in range(n)}\n",
    "print(powers_of_2)"
   ]
  },
  {
   "cell_type": "code",
   "execution_count": 47,
   "id": "d26eed7a-fc09-44e5-bb0a-3a1d91d09435",
   "metadata": {},
   "outputs": [
    {
     "name": "stdout",
     "output_type": "stream",
     "text": [
      "{4, 5}\n"
     ]
    }
   ],
   "source": [
    "#46. Find the common elements between a set and a list.\n",
    "my_set = {1, 2, 3, 4, 5}\n",
    "my_list = [4, 5, 6, 7, 8]\n",
    "common_elements = my_set.intersection(my_list)\n",
    "print(common_elements)\n"
   ]
  },
  {
   "cell_type": "code",
   "execution_count": 49,
   "id": "89cf1bb4-0bf4-4aef-b2cc-2a35b81b67c4",
   "metadata": {},
   "outputs": [
    {
     "name": "stdout",
     "output_type": "stream",
     "text": [
      "{0, 2, 6, 12, 20}\n"
     ]
    }
   ],
   "source": [
    "#47. Create a set of the first `n` triangular numbers.\n",
    "n = 5\n",
    "triangular_set = {(x * (x + 1)) for x in range(n)}\n",
    "print(triangular_set)"
   ]
  },
  {
   "cell_type": "code",
   "execution_count": 51,
   "id": "d0fc5d9b-4e1f-42eb-af18-5311f0ade171",
   "metadata": {},
   "outputs": [
    {
     "name": "stdout",
     "output_type": "stream",
     "text": [
      "set2 is a subset of set1\n"
     ]
    }
   ],
   "source": [
    "#48. Check if a set contains another set as a subset.\n",
    "set1 = {1, 2, 3, 4, 5}\n",
    "set2 = {2, 3}\n",
    "if set2.issubset(set1):\n",
    "    print(\"set2 is a subset of set1\")\n",
    "else:\n",
    "    print(\"set2 is not a subset of set1\")\n"
   ]
  },
  {
   "cell_type": "code",
   "execution_count": 52,
   "id": "d2ff3612-e682-40ec-9f52-30b1a1110a63",
   "metadata": {},
   "outputs": [
    {
     "name": "stdout",
     "output_type": "stream",
     "text": [
      "{0, 1}\n"
     ]
    }
   ],
   "source": [
    "#49. Create a set of alternating 1s and 0s of length `n`.\n",
    "n = 10\n",
    "alternating_set = {1 if i % 2 == 0 else 0 for i in range(n)}\n",
    "print(alternating_set)"
   ]
  },
  {
   "cell_type": "code",
   "execution_count": 54,
   "id": "533727d0-da90-4988-a075-56f14af896d5",
   "metadata": {},
   "outputs": [
    {
     "name": "stdout",
     "output_type": "stream",
     "text": [
      "{1, 2, 3, 4, 5, 6, 7, 8, 9}\n"
     ]
    }
   ],
   "source": [
    "#50. Merge multiple sets into one.\n",
    "set1 = {1, 2, 3}\n",
    "set2 = {4, 5, 6}\n",
    "set3 = {7, 8, 9}\n",
    "\n",
    "combined_set = set1.union(set2, set3)\n",
    "# or\n",
    "# combined_set = set1 set2 set3\n",
    "\n",
    "print(combined_set)"
   ]
  },
  {
   "cell_type": "code",
   "execution_count": null,
   "id": "5cb9f24d-8e02-47b9-8d70-6fd9f80edaad",
   "metadata": {},
   "outputs": [],
   "source": []
  }
 ],
 "metadata": {
  "kernelspec": {
   "display_name": "Python 3 (ipykernel)",
   "language": "python",
   "name": "python3"
  },
  "language_info": {
   "codemirror_mode": {
    "name": "ipython",
    "version": 3
   },
   "file_extension": ".py",
   "mimetype": "text/x-python",
   "name": "python",
   "nbconvert_exporter": "python",
   "pygments_lexer": "ipython3",
   "version": "3.10.8"
  }
 },
 "nbformat": 4,
 "nbformat_minor": 5
}
